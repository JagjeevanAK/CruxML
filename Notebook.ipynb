{
  "nbformat": 4,
  "nbformat_minor": 0,
  "metadata": {
    "colab": {
      "provenance": []
    },
    "kernelspec": {
      "name": "python3",
      "display_name": "Python 3"
    },
    "language_info": {
      "name": "python"
    }
  },
  "cells": [
    {
      "cell_type": "code",
      "execution_count": null,
      "metadata": {
        "id": "gZFG6qU34IKQ"
      },
      "outputs": [],
      "source": [
        "import numpy as np\n",
        "import matplotlib.pyplot as plt\n",
        "import pandas as pd\n",
        "import math as m"
      ]
    },
    {
      "cell_type": "code",
      "source": [
        "class Value():\n",
        "  def __init__(self, data, _children=(), _op='', label=''):\n",
        "    self.data = data\n",
        "    self.grad = 0.0\n",
        "    self._backward = lambda: None\n",
        "    self._prev = set(_children)\n",
        "    self._op = _op\n",
        "    self.label = label\n",
        "\n",
        "  def __repr__(self) -> str:\n",
        "    return (f\"Value(data = {self.data})\")\n",
        "\n",
        "  def __add__(self, other):\n",
        "    other = other if isinstance(other, Value) else Value(other);\n",
        "    out = Value(self.data + other.data, (self, other), '+')\n",
        "\n",
        "    def _backward():\n",
        "      self.grad += 1.0 * out.grad\n",
        "      other.grad += 1.0 * out.grad\n",
        "    out._backward = _backward\n",
        "\n",
        "    return out\n",
        "\n",
        "  def __mul__(self, other):\n",
        "    other = other if isinstance(other, Value) else Value(other);\n",
        "    out = Value(self.data * other.data, (self, other), '*')\n",
        "\n",
        "    def _backward():\n",
        "      self.grad += other.data * out.grad\n",
        "      other.grad += self.data * out.grad\n",
        "    out._backward = _backward\n",
        "\n",
        "    return out\n",
        "\n",
        "  def __rmul__(self, other):\n",
        "    return self * other\n",
        "\n",
        "  def __truediv__(self, other):\n",
        "    return self * other**-1\n",
        "\n",
        "  def __pow__(self, other):\n",
        "    assert isinstance(other, (int, float)), \" we only support int / float in power\"\n",
        "    out = Value(self.data**other, (self,), f'**{other}')\n",
        "\n",
        "    def _backward():\n",
        "      self.grad += other * (self.data ** (other - 1)) * out.grad\n",
        "    out._backward = _backward\n",
        "\n",
        "    return out\n",
        "\n",
        "  def __neg__(self):\n",
        "    return self * -1\n",
        "\n",
        "  def __sub__(self, other):\n",
        "    other = other if isinstance(other, Value) else Value(other);\n",
        "    return self + (-other)\n",
        "\n",
        "\n",
        "  def tanh(self):\n",
        "    x = self.data;\n",
        "    t = (m.exp(2*x) - 1) / (m.exp(2*x) + 1)\n",
        "    out = Value(t, (self,), 'tanh')\n",
        "\n",
        "    def _backward():\n",
        "      self.grad += (1 - t**2) * out.grad\n",
        "    out._backward = _backward\n",
        "\n",
        "    return out\n",
        "\n",
        "  def exp(self):\n",
        "    x = self.data;\n",
        "    out = Value(m.exp(x), (self,), 'exp')\n",
        "\n",
        "    def _backward():\n",
        "      self.grad += out.data * out.grad\n",
        "    out._backward = _backward\n",
        "\n",
        "    return out\n",
        "\n",
        "\n",
        "  def backward(self):\n",
        "    topo = []\n",
        "    visited = set()\n",
        "    def build_topo(v):\n",
        "      if v not in visited:\n",
        "        visited.add(v)\n",
        "        for child in v._prev:\n",
        "          build_topo(child)\n",
        "        topo.append(v)\n",
        "    build_topo(self)\n",
        "\n",
        "    self.grad = 1.0\n",
        "    for node in reversed(topo):\n",
        "      node._backward()"
      ],
      "metadata": {
        "id": "vjUpIdZQ4VWz"
      },
      "execution_count": null,
      "outputs": []
    },
    {
      "cell_type": "code",
      "source": [
        "a = Value(2.0, label='a')\n",
        "b = Value(-3.0, label='b')\n",
        "c = Value(10.0, label='c')\n",
        "d = a * b; d.label='d'\n",
        "e = d + c ; e.label='e'\n",
        "f = Value(-2.0, label= 'f')\n",
        "l = e * f; l.label='l'"
      ],
      "metadata": {
        "id": "wHuki8zY44yn"
      },
      "execution_count": null,
      "outputs": []
    },
    {
      "cell_type": "code",
      "source": [
        "d._prev, d._op"
      ],
      "metadata": {
        "colab": {
          "base_uri": "https://localhost:8080/"
        },
        "id": "_eGNZ1jL5NgO",
        "outputId": "82ef8253-426a-4b00-9abd-73559cf6c378"
      },
      "execution_count": null,
      "outputs": [
        {
          "output_type": "execute_result",
          "data": {
            "text/plain": [
              "({Value(data = -3.0), Value(data = 2.0)}, '*')"
            ]
          },
          "metadata": {},
          "execution_count": 202
        }
      ]
    },
    {
      "cell_type": "markdown",
      "source": [
        "### Code to vizualize the Neural Net"
      ],
      "metadata": {
        "id": "egqYYhv09_9A"
      }
    },
    {
      "cell_type": "code",
      "source": [
        "from graphviz import Digraph\n",
        "\n",
        "def trace (root):\n",
        "  nodes, edges = set(), set()\n",
        "  def build(v):\n",
        "    if v not in nodes:\n",
        "      nodes.add(v)\n",
        "      for child in v._prev:\n",
        "        edges.add((child,v))\n",
        "        build(child)\n",
        "  build(root)\n",
        "  return nodes, edges\n",
        "\n",
        "def draw_root(root):\n",
        "  dot = Digraph(format=\"svg\", graph_attr= {\"rankdir\":\"LR\"}) # LR = Left to Right\n",
        "\n",
        "  nodes, edges = trace(root)\n",
        "  for n in nodes:\n",
        "    uid = str(id(n))\n",
        "\n",
        "    # for any value in the graph, create a rectangular ('record') node for it\n",
        "    dot.node (name = uid, label = \"{ %s | data %.4f | grad %.4f}\" % ( n.label, n.data, n.grad ), shape='record')\n",
        "    if n._op:\n",
        "      # if this value is a result of some operation, create an op node for it\n",
        "      dot.node (name = uid + n._op, label=n._op)\n",
        "      # and connect this node to it\n",
        "      dot.edge (uid + n._op, uid)\n",
        "  for n1, n2 in edges:\n",
        "    # connect ni to the op node of n2\n",
        "    dot.edge(str(id(n1)), str(id(n2)) + n2._op)\n",
        "\n",
        "  return dot"
      ],
      "metadata": {
        "id": "7UaQI1q-8y33"
      },
      "execution_count": null,
      "outputs": []
    },
    {
      "cell_type": "code",
      "source": [
        "# a.grad=6.0000\n",
        "# b.grad=-4.0000\n",
        "# c.grad=-2.0000\n",
        "# d.grad=-2.0000\n",
        "# e.grad=-2.0000\n",
        "# f.grad=4.0000\n",
        "# l.grad=1.0000"
      ],
      "metadata": {
        "id": "55K4FeV-Ta1w"
      },
      "execution_count": null,
      "outputs": []
    },
    {
      "cell_type": "code",
      "source": [
        "draw_root(l)"
      ],
      "metadata": {
        "colab": {
          "base_uri": "https://localhost:8080/",
          "height": 192
        },
        "id": "Gtw06nEhBYxx",
        "outputId": "b16992a8-317d-4210-ea3a-4e821c766696"
      },
      "execution_count": null,
      "outputs": [
        {
          "output_type": "execute_result",
          "data": {
            "image/svg+xml": "<?xml version=\"1.0\" encoding=\"UTF-8\" standalone=\"no\"?>\n<!DOCTYPE svg PUBLIC \"-//W3C//DTD SVG 1.1//EN\"\n \"http://www.w3.org/Graphics/SVG/1.1/DTD/svg11.dtd\">\n<!-- Generated by graphviz version 2.43.0 (0)\n -->\n<!-- Title: %3 Pages: 1 -->\n<svg width=\"1143pt\" height=\"128pt\"\n viewBox=\"0.00 0.00 1143.00 128.00\" xmlns=\"http://www.w3.org/2000/svg\" xmlns:xlink=\"http://www.w3.org/1999/xlink\">\n<g id=\"graph0\" class=\"graph\" transform=\"scale(1 1) rotate(0) translate(4 124)\">\n<title>%3</title>\n<polygon fill=\"white\" stroke=\"transparent\" points=\"-4,4 -4,-124 1139,-124 1139,4 -4,4\"/>\n<!-- 140628119185040 -->\n<g id=\"node1\" class=\"node\">\n<title>140628119185040</title>\n<polygon fill=\"none\" stroke=\"black\" points=\"634,-82.5 634,-118.5 822,-118.5 822,-82.5 634,-82.5\"/>\n<text text-anchor=\"middle\" x=\"644.5\" y=\"-96.8\" font-family=\"Times,serif\" font-size=\"14.00\">f</text>\n<polyline fill=\"none\" stroke=\"black\" points=\"655,-82.5 655,-118.5 \"/>\n<text text-anchor=\"middle\" x=\"697.5\" y=\"-96.8\" font-family=\"Times,serif\" font-size=\"14.00\">data &#45;2.0000</text>\n<polyline fill=\"none\" stroke=\"black\" points=\"740,-82.5 740,-118.5 \"/>\n<text text-anchor=\"middle\" x=\"781\" y=\"-96.8\" font-family=\"Times,serif\" font-size=\"14.00\">grad 0.0000</text>\n</g>\n<!-- 140628119188176* -->\n<g id=\"node4\" class=\"node\">\n<title>140628119188176*</title>\n<ellipse fill=\"none\" stroke=\"black\" cx=\"885\" cy=\"-72.5\" rx=\"27\" ry=\"18\"/>\n<text text-anchor=\"middle\" x=\"885\" y=\"-68.8\" font-family=\"Times,serif\" font-size=\"14.00\">*</text>\n</g>\n<!-- 140628119185040&#45;&gt;140628119188176* -->\n<g id=\"edge4\" class=\"edge\">\n<title>140628119185040&#45;&gt;140628119188176*</title>\n<path fill=\"none\" stroke=\"black\" d=\"M822.29,-83.65C831.57,-81.97 840.52,-80.35 848.61,-78.89\"/>\n<polygon fill=\"black\" stroke=\"black\" points=\"849.46,-82.3 858.68,-77.07 848.21,-75.41 849.46,-82.3\"/>\n</g>\n<!-- 140628119189136 -->\n<g id=\"node2\" class=\"node\">\n<title>140628119189136</title>\n<polygon fill=\"none\" stroke=\"black\" points=\"2.5,-83.5 2.5,-119.5 187.5,-119.5 187.5,-83.5 2.5,-83.5\"/>\n<text text-anchor=\"middle\" x=\"14\" y=\"-97.8\" font-family=\"Times,serif\" font-size=\"14.00\">a</text>\n<polyline fill=\"none\" stroke=\"black\" points=\"25.5,-83.5 25.5,-119.5 \"/>\n<text text-anchor=\"middle\" x=\"65.5\" y=\"-97.8\" font-family=\"Times,serif\" font-size=\"14.00\">data 2.0000</text>\n<polyline fill=\"none\" stroke=\"black\" points=\"105.5,-83.5 105.5,-119.5 \"/>\n<text text-anchor=\"middle\" x=\"146.5\" y=\"-97.8\" font-family=\"Times,serif\" font-size=\"14.00\">grad 0.0000</text>\n</g>\n<!-- 140628119189328* -->\n<g id=\"node8\" class=\"node\">\n<title>140628119189328*</title>\n<ellipse fill=\"none\" stroke=\"black\" cx=\"253\" cy=\"-73.5\" rx=\"27\" ry=\"18\"/>\n<text text-anchor=\"middle\" x=\"253\" y=\"-69.8\" font-family=\"Times,serif\" font-size=\"14.00\">*</text>\n</g>\n<!-- 140628119189136&#45;&gt;140628119189328* -->\n<g id=\"edge8\" class=\"edge\">\n<title>140628119189136&#45;&gt;140628119189328*</title>\n<path fill=\"none\" stroke=\"black\" d=\"M187.65,-85.05C197.94,-83.2 207.91,-81.41 216.81,-79.82\"/>\n<polygon fill=\"black\" stroke=\"black\" points=\"217.48,-83.25 226.71,-78.04 216.25,-76.36 217.48,-83.25\"/>\n</g>\n<!-- 140628119188176 -->\n<g id=\"node3\" class=\"node\">\n<title>140628119188176</title>\n<polygon fill=\"none\" stroke=\"black\" points=\"948,-54.5 948,-90.5 1135,-90.5 1135,-54.5 948,-54.5\"/>\n<text text-anchor=\"middle\" x=\"958\" y=\"-68.8\" font-family=\"Times,serif\" font-size=\"14.00\">l</text>\n<polyline fill=\"none\" stroke=\"black\" points=\"968,-54.5 968,-90.5 \"/>\n<text text-anchor=\"middle\" x=\"1010.5\" y=\"-68.8\" font-family=\"Times,serif\" font-size=\"14.00\">data &#45;8.0000</text>\n<polyline fill=\"none\" stroke=\"black\" points=\"1053,-54.5 1053,-90.5 \"/>\n<text text-anchor=\"middle\" x=\"1094\" y=\"-68.8\" font-family=\"Times,serif\" font-size=\"14.00\">grad 0.0000</text>\n</g>\n<!-- 140628119188176*&#45;&gt;140628119188176 -->\n<g id=\"edge1\" class=\"edge\">\n<title>140628119188176*&#45;&gt;140628119188176</title>\n<path fill=\"none\" stroke=\"black\" d=\"M912.21,-72.5C919.73,-72.5 928.43,-72.5 937.67,-72.5\"/>\n<polygon fill=\"black\" stroke=\"black\" points=\"937.89,-76 947.89,-72.5 937.89,-69 937.89,-76\"/>\n</g>\n<!-- 140628116637008 -->\n<g id=\"node5\" class=\"node\">\n<title>140628116637008</title>\n<polygon fill=\"none\" stroke=\"black\" points=\"635.5,-27.5 635.5,-63.5 820.5,-63.5 820.5,-27.5 635.5,-27.5\"/>\n<text text-anchor=\"middle\" x=\"647\" y=\"-41.8\" font-family=\"Times,serif\" font-size=\"14.00\">e</text>\n<polyline fill=\"none\" stroke=\"black\" points=\"658.5,-27.5 658.5,-63.5 \"/>\n<text text-anchor=\"middle\" x=\"698.5\" y=\"-41.8\" font-family=\"Times,serif\" font-size=\"14.00\">data 4.0000</text>\n<polyline fill=\"none\" stroke=\"black\" points=\"738.5,-27.5 738.5,-63.5 \"/>\n<text text-anchor=\"middle\" x=\"779.5\" y=\"-41.8\" font-family=\"Times,serif\" font-size=\"14.00\">grad 0.0000</text>\n</g>\n<!-- 140628116637008&#45;&gt;140628119188176* -->\n<g id=\"edge9\" class=\"edge\">\n<title>140628116637008&#45;&gt;140628119188176*</title>\n<path fill=\"none\" stroke=\"black\" d=\"M820.51,-61.44C830.48,-63.18 840.13,-64.86 848.77,-66.36\"/>\n<polygon fill=\"black\" stroke=\"black\" points=\"848.31,-69.84 858.77,-68.1 849.52,-62.94 848.31,-69.84\"/>\n</g>\n<!-- 140628116637008+ -->\n<g id=\"node6\" class=\"node\">\n<title>140628116637008+</title>\n<ellipse fill=\"none\" stroke=\"black\" cx=\"571\" cy=\"-45.5\" rx=\"27\" ry=\"18\"/>\n<text text-anchor=\"middle\" x=\"571\" y=\"-41.8\" font-family=\"Times,serif\" font-size=\"14.00\">+</text>\n</g>\n<!-- 140628116637008+&#45;&gt;140628116637008 -->\n<g id=\"edge2\" class=\"edge\">\n<title>140628116637008+&#45;&gt;140628116637008</title>\n<path fill=\"none\" stroke=\"black\" d=\"M598.29,-45.5C606.26,-45.5 615.54,-45.5 625.39,-45.5\"/>\n<polygon fill=\"black\" stroke=\"black\" points=\"625.41,-49 635.41,-45.5 625.41,-42 625.41,-49\"/>\n</g>\n<!-- 140628119189328 -->\n<g id=\"node7\" class=\"node\">\n<title>140628119189328</title>\n<polygon fill=\"none\" stroke=\"black\" points=\"317,-55.5 317,-91.5 507,-91.5 507,-55.5 317,-55.5\"/>\n<text text-anchor=\"middle\" x=\"328.5\" y=\"-69.8\" font-family=\"Times,serif\" font-size=\"14.00\">d</text>\n<polyline fill=\"none\" stroke=\"black\" points=\"340,-55.5 340,-91.5 \"/>\n<text text-anchor=\"middle\" x=\"382.5\" y=\"-69.8\" font-family=\"Times,serif\" font-size=\"14.00\">data &#45;6.0000</text>\n<polyline fill=\"none\" stroke=\"black\" points=\"425,-55.5 425,-91.5 \"/>\n<text text-anchor=\"middle\" x=\"466\" y=\"-69.8\" font-family=\"Times,serif\" font-size=\"14.00\">grad 0.0000</text>\n</g>\n<!-- 140628119189328&#45;&gt;140628116637008+ -->\n<g id=\"edge7\" class=\"edge\">\n<title>140628119189328&#45;&gt;140628116637008+</title>\n<path fill=\"none\" stroke=\"black\" d=\"M507.05,-56.73C516.89,-54.97 526.39,-53.28 534.9,-51.76\"/>\n<polygon fill=\"black\" stroke=\"black\" points=\"535.52,-55.2 544.75,-50 534.29,-48.31 535.52,-55.2\"/>\n</g>\n<!-- 140628119189328*&#45;&gt;140628119189328 -->\n<g id=\"edge3\" class=\"edge\">\n<title>140628119189328*&#45;&gt;140628119189328</title>\n<path fill=\"none\" stroke=\"black\" d=\"M280.28,-73.5C288.05,-73.5 297.08,-73.5 306.68,-73.5\"/>\n<polygon fill=\"black\" stroke=\"black\" points=\"306.88,-77 316.88,-73.5 306.88,-70 306.88,-77\"/>\n</g>\n<!-- 140628119182224 -->\n<g id=\"node9\" class=\"node\">\n<title>140628119182224</title>\n<polygon fill=\"none\" stroke=\"black\" points=\"316,-0.5 316,-36.5 508,-36.5 508,-0.5 316,-0.5\"/>\n<text text-anchor=\"middle\" x=\"327.5\" y=\"-14.8\" font-family=\"Times,serif\" font-size=\"14.00\">c</text>\n<polyline fill=\"none\" stroke=\"black\" points=\"339,-0.5 339,-36.5 \"/>\n<text text-anchor=\"middle\" x=\"382.5\" y=\"-14.8\" font-family=\"Times,serif\" font-size=\"14.00\">data 10.0000</text>\n<polyline fill=\"none\" stroke=\"black\" points=\"426,-0.5 426,-36.5 \"/>\n<text text-anchor=\"middle\" x=\"467\" y=\"-14.8\" font-family=\"Times,serif\" font-size=\"14.00\">grad 0.0000</text>\n</g>\n<!-- 140628119182224&#45;&gt;140628116637008+ -->\n<g id=\"edge5\" class=\"edge\">\n<title>140628119182224&#45;&gt;140628116637008+</title>\n<path fill=\"none\" stroke=\"black\" d=\"M508.4,-34.91C517.69,-36.5 526.64,-38.04 534.71,-39.43\"/>\n<polygon fill=\"black\" stroke=\"black\" points=\"534.32,-42.91 544.76,-41.16 535.5,-36.02 534.32,-42.91\"/>\n</g>\n<!-- 140628119183824 -->\n<g id=\"node10\" class=\"node\">\n<title>140628119183824</title>\n<polygon fill=\"none\" stroke=\"black\" points=\"0,-28.5 0,-64.5 190,-64.5 190,-28.5 0,-28.5\"/>\n<text text-anchor=\"middle\" x=\"11.5\" y=\"-42.8\" font-family=\"Times,serif\" font-size=\"14.00\">b</text>\n<polyline fill=\"none\" stroke=\"black\" points=\"23,-28.5 23,-64.5 \"/>\n<text text-anchor=\"middle\" x=\"65.5\" y=\"-42.8\" font-family=\"Times,serif\" font-size=\"14.00\">data &#45;3.0000</text>\n<polyline fill=\"none\" stroke=\"black\" points=\"108,-28.5 108,-64.5 \"/>\n<text text-anchor=\"middle\" x=\"149\" y=\"-42.8\" font-family=\"Times,serif\" font-size=\"14.00\">grad 0.0000</text>\n</g>\n<!-- 140628119183824&#45;&gt;140628119189328* -->\n<g id=\"edge6\" class=\"edge\">\n<title>140628119183824&#45;&gt;140628119189328*</title>\n<path fill=\"none\" stroke=\"black\" d=\"M190.34,-62.83C199.62,-64.44 208.58,-65.99 216.66,-67.38\"/>\n<polygon fill=\"black\" stroke=\"black\" points=\"216.27,-70.87 226.72,-69.12 217.46,-63.97 216.27,-70.87\"/>\n</g>\n</g>\n</svg>\n",
            "text/plain": [
              "<graphviz.graphs.Digraph at 0x7fe689277450>"
            ]
          },
          "metadata": {},
          "execution_count": 205
        }
      ]
    },
    {
      "cell_type": "code",
      "source": [
        "# d = a * b\n",
        "# dd/da = b\n",
        "# dd/db = a\n",
        "# dl/ da = dl/de * de/dd * dd/da\n",
        "# dl/ da = 1 * -2 *  -3 = 6"
      ],
      "metadata": {
        "id": "YKW-LhxcvmcB"
      },
      "execution_count": null,
      "outputs": []
    },
    {
      "cell_type": "code",
      "source": [
        "a.data += 0.01 * a.grad\n",
        "b.data += 0.01 * b.grad\n",
        "c.data += 0.01 * c.grad\n",
        "f.data += 0.01 * f.grad\n",
        "\n",
        "d = a * b\n",
        "e = d + c\n",
        "l = e * f\n",
        "\n",
        "l.data"
      ],
      "metadata": {
        "id": "J2r-FKi3Bd8-",
        "colab": {
          "base_uri": "https://localhost:8080/"
        },
        "outputId": "b67531de-925d-45e5-d4c6-2b40f1d931a8"
      },
      "execution_count": null,
      "outputs": [
        {
          "output_type": "execute_result",
          "data": {
            "text/plain": [
              "-8.0"
            ]
          },
          "metadata": {},
          "execution_count": 207
        }
      ]
    },
    {
      "cell_type": "markdown",
      "source": [
        "### Math behind Artifical Neuron  \n",
        "![Math model of neuron](https://cs231n.github.io/assets/nn1/neuron_model.jpeg)"
      ],
      "metadata": {
        "id": "HUqXTNK_ViAn"
      }
    },
    {
      "cell_type": "code",
      "source": [
        "plt.plot(np.arange(-5, 5, 0.2), np.tanh(np.arange(-5, 5, 0.2)))\n",
        "plt.grid()"
      ],
      "metadata": {
        "colab": {
          "base_uri": "https://localhost:8080/",
          "height": 430
        },
        "id": "ExWbD172THXh",
        "outputId": "d42376eb-f172-44b8-b8e9-cd5309470891"
      },
      "execution_count": null,
      "outputs": [
        {
          "output_type": "display_data",
          "data": {
            "text/plain": [
              "<Figure size 640x480 with 1 Axes>"
            ],
            "image/png": "[encoded data removed]"
          },
          "metadata": {}
        }
      ]
    },
    {
      "cell_type": "code",
      "source": [
        "# input x1, x2\n",
        "x1 = Value(2.0, label='x1')\n",
        "x2 = Value(0.0, label='x2')\n",
        "\n",
        "# weights\n",
        "w1 = Value(-3.0, label='w1')\n",
        "w2 = Value(1.0, label='w2')\n",
        "\n",
        "# bais\n",
        "b = Value(6.8813735870195432, label='b')\n",
        "\n",
        "w1x1 = w1 * x1; w1x1.label = 'w1*x1'\n",
        "w2x2 = w2 * x2; w2x2.label = 'w2*x2'\n",
        "w1x1w2x2 = w1x1 + w2x2 ; w1x1w2x2.label = 'w1*x1 + w2*x2'\n",
        "n = w1x1w2x2 + b; n.label = 'n'\n",
        "o = n.tanh(); o.label='o'\n",
        "o.backward()\n",
        "draw_root(o)"
      ],
      "metadata": {
        "id": "opwR5ZraY9yQ",
        "colab": {
          "base_uri": "https://localhost:8080/",
          "height": 321
        },
        "outputId": "f3e1822e-1bcb-4438-e3ff-a392651b2fb6"
      },
      "execution_count": null,
      "outputs": [
        {
          "output_type": "execute_result",
          "data": {
            "image/svg+xml": "<?xml version=\"1.0\" encoding=\"UTF-8\" standalone=\"no\"?>\n<!DOCTYPE svg PUBLIC \"-//W3C//DTD SVG 1.1//EN\"\n \"http://www.w3.org/Graphics/SVG/1.1/DTD/svg11.dtd\">\n<!-- Generated by graphviz version 2.43.0 (0)\n -->\n<!-- Title: %3 Pages: 1 -->\n<svg width=\"1575pt\" height=\"210pt\"\n viewBox=\"0.00 0.00 1575.00 210.00\" xmlns=\"http://www.w3.org/2000/svg\" xmlns:xlink=\"http://www.w3.org/1999/xlink\">\n<g id=\"graph0\" class=\"graph\" transform=\"scale(1 1) rotate(0) translate(4 206)\">\n<title>%3</title>\n<polygon fill=\"white\" stroke=\"transparent\" points=\"-4,4 -4,-206 1571,-206 1571,4 -4,4\"/>\n<!-- 140628120230992 -->\n<g id=\"node1\" class=\"node\">\n<title>140628120230992</title>\n<polygon fill=\"none\" stroke=\"black\" points=\"672,-82.5 672,-118.5 945,-118.5 945,-82.5 672,-82.5\"/>\n<text text-anchor=\"middle\" x=\"725\" y=\"-96.8\" font-family=\"Times,serif\" font-size=\"14.00\">w1*x1 + w2*x2</text>\n<polyline fill=\"none\" stroke=\"black\" points=\"778,-82.5 778,-118.5 \"/>\n<text text-anchor=\"middle\" x=\"820.5\" y=\"-96.8\" font-family=\"Times,serif\" font-size=\"14.00\">data &#45;6.0000</text>\n<polyline fill=\"none\" stroke=\"black\" points=\"863,-82.5 863,-118.5 \"/>\n<text text-anchor=\"middle\" x=\"904\" y=\"-96.8\" font-family=\"Times,serif\" font-size=\"14.00\">grad 0.5000</text>\n</g>\n<!-- 140628119983888+ -->\n<g id=\"node9\" class=\"node\">\n<title>140628119983888+</title>\n<ellipse fill=\"none\" stroke=\"black\" cx=\"1008\" cy=\"-127.5\" rx=\"27\" ry=\"18\"/>\n<text text-anchor=\"middle\" x=\"1008\" y=\"-123.8\" font-family=\"Times,serif\" font-size=\"14.00\">+</text>\n</g>\n<!-- 140628120230992&#45;&gt;140628119983888+ -->\n<g id=\"edge14\" class=\"edge\">\n<title>140628120230992&#45;&gt;140628119983888+</title>\n<path fill=\"none\" stroke=\"black\" d=\"M941.24,-118.51C952.12,-120 962.4,-121.4 971.45,-122.64\"/>\n<polygon fill=\"black\" stroke=\"black\" points=\"971.11,-126.13 981.49,-124.01 972.05,-119.19 971.11,-126.13\"/>\n</g>\n<!-- 140628120230992+ -->\n<g id=\"node2\" class=\"node\">\n<title>140628120230992+</title>\n<ellipse fill=\"none\" stroke=\"black\" cx=\"609\" cy=\"-100.5\" rx=\"27\" ry=\"18\"/>\n<text text-anchor=\"middle\" x=\"609\" y=\"-96.8\" font-family=\"Times,serif\" font-size=\"14.00\">+</text>\n</g>\n<!-- 140628120230992+&#45;&gt;140628120230992 -->\n<g id=\"edge1\" class=\"edge\">\n<title>140628120230992+&#45;&gt;140628120230992</title>\n<path fill=\"none\" stroke=\"black\" d=\"M636.23,-100.5C643.7,-100.5 652.41,-100.5 661.87,-100.5\"/>\n<polygon fill=\"black\" stroke=\"black\" points=\"661.98,-104 671.98,-100.5 661.98,-97 661.98,-104\"/>\n</g>\n<!-- 140628119987856 -->\n<g id=\"node3\" class=\"node\">\n<title>140628119987856</title>\n<polygon fill=\"none\" stroke=\"black\" points=\"326,-110.5 326,-146.5 546,-146.5 546,-110.5 326,-110.5\"/>\n<text text-anchor=\"middle\" x=\"352.5\" y=\"-124.8\" font-family=\"Times,serif\" font-size=\"14.00\">w1*x1</text>\n<polyline fill=\"none\" stroke=\"black\" points=\"379,-110.5 379,-146.5 \"/>\n<text text-anchor=\"middle\" x=\"421.5\" y=\"-124.8\" font-family=\"Times,serif\" font-size=\"14.00\">data &#45;6.0000</text>\n<polyline fill=\"none\" stroke=\"black\" points=\"464,-110.5 464,-146.5 \"/>\n<text text-anchor=\"middle\" x=\"505\" y=\"-124.8\" font-family=\"Times,serif\" font-size=\"14.00\">grad 0.5000</text>\n</g>\n<!-- 140628119987856&#45;&gt;140628120230992+ -->\n<g id=\"edge11\" class=\"edge\">\n<title>140628119987856&#45;&gt;140628120230992+</title>\n<path fill=\"none\" stroke=\"black\" d=\"M546.27,-110.61C555.64,-109.07 564.6,-107.61 572.65,-106.29\"/>\n<polygon fill=\"black\" stroke=\"black\" points=\"573.35,-109.72 582.65,-104.65 572.22,-102.81 573.35,-109.72\"/>\n</g>\n<!-- 140628119987856* -->\n<g id=\"node4\" class=\"node\">\n<title>140628119987856*</title>\n<ellipse fill=\"none\" stroke=\"black\" cx=\"263\" cy=\"-128.5\" rx=\"27\" ry=\"18\"/>\n<text text-anchor=\"middle\" x=\"263\" y=\"-124.8\" font-family=\"Times,serif\" font-size=\"14.00\">*</text>\n</g>\n<!-- 140628119987856*&#45;&gt;140628119987856 -->\n<g id=\"edge2\" class=\"edge\">\n<title>140628119987856*&#45;&gt;140628119987856</title>\n<path fill=\"none\" stroke=\"black\" d=\"M290.34,-128.5C297.77,-128.5 306.37,-128.5 315.6,-128.5\"/>\n<polygon fill=\"black\" stroke=\"black\" points=\"315.84,-132 325.84,-128.5 315.84,-125 315.84,-132\"/>\n</g>\n<!-- 140628119987920 -->\n<g id=\"node5\" class=\"node\">\n<title>140628119987920</title>\n<polygon fill=\"none\" stroke=\"black\" points=\"328.5,-55.5 328.5,-91.5 543.5,-91.5 543.5,-55.5 328.5,-55.5\"/>\n<text text-anchor=\"middle\" x=\"355\" y=\"-69.8\" font-family=\"Times,serif\" font-size=\"14.00\">w2*x2</text>\n<polyline fill=\"none\" stroke=\"black\" points=\"381.5,-55.5 381.5,-91.5 \"/>\n<text text-anchor=\"middle\" x=\"421.5\" y=\"-69.8\" font-family=\"Times,serif\" font-size=\"14.00\">data 0.0000</text>\n<polyline fill=\"none\" stroke=\"black\" points=\"461.5,-55.5 461.5,-91.5 \"/>\n<text text-anchor=\"middle\" x=\"502.5\" y=\"-69.8\" font-family=\"Times,serif\" font-size=\"14.00\">grad 0.5000</text>\n</g>\n<!-- 140628119987920&#45;&gt;140628120230992+ -->\n<g id=\"edge8\" class=\"edge\">\n<title>140628119987920&#45;&gt;140628120230992+</title>\n<path fill=\"none\" stroke=\"black\" d=\"M543.84,-90.37C554.01,-91.98 563.76,-93.51 572.44,-94.89\"/>\n<polygon fill=\"black\" stroke=\"black\" points=\"572.05,-98.37 582.47,-96.47 573.14,-91.45 572.05,-98.37\"/>\n</g>\n<!-- 140628119987920* -->\n<g id=\"node6\" class=\"node\">\n<title>140628119987920*</title>\n<ellipse fill=\"none\" stroke=\"black\" cx=\"263\" cy=\"-73.5\" rx=\"27\" ry=\"18\"/>\n<text text-anchor=\"middle\" x=\"263\" y=\"-69.8\" font-family=\"Times,serif\" font-size=\"14.00\">*</text>\n</g>\n<!-- 140628119987920*&#45;&gt;140628119987920 -->\n<g id=\"edge3\" class=\"edge\">\n<title>140628119987920*&#45;&gt;140628119987920</title>\n<path fill=\"none\" stroke=\"black\" d=\"M290.34,-73.5C298.51,-73.5 308.08,-73.5 318.36,-73.5\"/>\n<polygon fill=\"black\" stroke=\"black\" points=\"318.39,-77 328.39,-73.5 318.39,-70 318.39,-77\"/>\n</g>\n<!-- 140628127262928 -->\n<g id=\"node7\" class=\"node\">\n<title>140628127262928</title>\n<polygon fill=\"none\" stroke=\"black\" points=\"4,-55.5 4,-91.5 196,-91.5 196,-55.5 4,-55.5\"/>\n<text text-anchor=\"middle\" x=\"19\" y=\"-69.8\" font-family=\"Times,serif\" font-size=\"14.00\">x2</text>\n<polyline fill=\"none\" stroke=\"black\" points=\"34,-55.5 34,-91.5 \"/>\n<text text-anchor=\"middle\" x=\"74\" y=\"-69.8\" font-family=\"Times,serif\" font-size=\"14.00\">data 0.0000</text>\n<polyline fill=\"none\" stroke=\"black\" points=\"114,-55.5 114,-91.5 \"/>\n<text text-anchor=\"middle\" x=\"155\" y=\"-69.8\" font-family=\"Times,serif\" font-size=\"14.00\">grad 0.5000</text>\n</g>\n<!-- 140628127262928&#45;&gt;140628119987920* -->\n<g id=\"edge7\" class=\"edge\">\n<title>140628127262928&#45;&gt;140628119987920*</title>\n<path fill=\"none\" stroke=\"black\" d=\"M196.05,-73.5C206.52,-73.5 216.65,-73.5 225.71,-73.5\"/>\n<polygon fill=\"black\" stroke=\"black\" points=\"225.79,-77 235.79,-73.5 225.79,-70 225.79,-77\"/>\n</g>\n<!-- 140628119983888 -->\n<g id=\"node8\" class=\"node\">\n<title>140628119983888</title>\n<polygon fill=\"none\" stroke=\"black\" points=\"1071,-109.5 1071,-145.5 1256,-145.5 1256,-109.5 1071,-109.5\"/>\n<text text-anchor=\"middle\" x=\"1082.5\" y=\"-123.8\" font-family=\"Times,serif\" font-size=\"14.00\">n</text>\n<polyline fill=\"none\" stroke=\"black\" points=\"1094,-109.5 1094,-145.5 \"/>\n<text text-anchor=\"middle\" x=\"1134\" y=\"-123.8\" font-family=\"Times,serif\" font-size=\"14.00\">data 0.8814</text>\n<polyline fill=\"none\" stroke=\"black\" points=\"1174,-109.5 1174,-145.5 \"/>\n<text text-anchor=\"middle\" x=\"1215\" y=\"-123.8\" font-family=\"Times,serif\" font-size=\"14.00\">grad 0.5000</text>\n</g>\n<!-- 140628119406416tanh -->\n<g id=\"node12\" class=\"node\">\n<title>140628119406416tanh</title>\n<ellipse fill=\"none\" stroke=\"black\" cx=\"1319\" cy=\"-127.5\" rx=\"27\" ry=\"18\"/>\n<text text-anchor=\"middle\" x=\"1319\" y=\"-123.8\" font-family=\"Times,serif\" font-size=\"14.00\">tanh</text>\n</g>\n<!-- 140628119983888&#45;&gt;140628119406416tanh -->\n<g id=\"edge10\" class=\"edge\">\n<title>140628119983888&#45;&gt;140628119406416tanh</title>\n<path fill=\"none\" stroke=\"black\" d=\"M1256.01,-127.5C1265.01,-127.5 1273.74,-127.5 1281.66,-127.5\"/>\n<polygon fill=\"black\" stroke=\"black\" points=\"1281.91,-131 1291.91,-127.5 1281.91,-124 1281.91,-131\"/>\n</g>\n<!-- 140628119983888+&#45;&gt;140628119983888 -->\n<g id=\"edge4\" class=\"edge\">\n<title>140628119983888+&#45;&gt;140628119983888</title>\n<path fill=\"none\" stroke=\"black\" d=\"M1035.04,-127.5C1042.58,-127.5 1051.3,-127.5 1060.57,-127.5\"/>\n<polygon fill=\"black\" stroke=\"black\" points=\"1060.81,-131 1070.81,-127.5 1060.81,-124 1060.81,-131\"/>\n</g>\n<!-- 140628115377488 -->\n<g id=\"node10\" class=\"node\">\n<title>140628115377488</title>\n<polygon fill=\"none\" stroke=\"black\" points=\"716,-137.5 716,-173.5 901,-173.5 901,-137.5 716,-137.5\"/>\n<text text-anchor=\"middle\" x=\"727.5\" y=\"-151.8\" font-family=\"Times,serif\" font-size=\"14.00\">b</text>\n<polyline fill=\"none\" stroke=\"black\" points=\"739,-137.5 739,-173.5 \"/>\n<text text-anchor=\"middle\" x=\"779\" y=\"-151.8\" font-family=\"Times,serif\" font-size=\"14.00\">data 6.8814</text>\n<polyline fill=\"none\" stroke=\"black\" points=\"819,-137.5 819,-173.5 \"/>\n<text text-anchor=\"middle\" x=\"860\" y=\"-151.8\" font-family=\"Times,serif\" font-size=\"14.00\">grad 0.5000</text>\n</g>\n<!-- 140628115377488&#45;&gt;140628119983888+ -->\n<g id=\"edge9\" class=\"edge\">\n<title>140628115377488&#45;&gt;140628119983888+</title>\n<path fill=\"none\" stroke=\"black\" d=\"M901.02,-142.52C926,-138.98 951.59,-135.36 971.37,-132.55\"/>\n<polygon fill=\"black\" stroke=\"black\" points=\"972.03,-135.99 981.43,-131.12 971.04,-129.06 972.03,-135.99\"/>\n</g>\n<!-- 140628119406416 -->\n<g id=\"node11\" class=\"node\">\n<title>140628119406416</title>\n<polygon fill=\"none\" stroke=\"black\" points=\"1382,-109.5 1382,-145.5 1567,-145.5 1567,-109.5 1382,-109.5\"/>\n<text text-anchor=\"middle\" x=\"1393.5\" y=\"-123.8\" font-family=\"Times,serif\" font-size=\"14.00\">o</text>\n<polyline fill=\"none\" stroke=\"black\" points=\"1405,-109.5 1405,-145.5 \"/>\n<text text-anchor=\"middle\" x=\"1445\" y=\"-123.8\" font-family=\"Times,serif\" font-size=\"14.00\">data 0.7071</text>\n<polyline fill=\"none\" stroke=\"black\" points=\"1485,-109.5 1485,-145.5 \"/>\n<text text-anchor=\"middle\" x=\"1526\" y=\"-123.8\" font-family=\"Times,serif\" font-size=\"14.00\">grad 1.0000</text>\n</g>\n<!-- 140628119406416tanh&#45;&gt;140628119406416 -->\n<g id=\"edge5\" class=\"edge\">\n<title>140628119406416tanh&#45;&gt;140628119406416</title>\n<path fill=\"none\" stroke=\"black\" d=\"M1346.04,-127.5C1353.58,-127.5 1362.3,-127.5 1371.57,-127.5\"/>\n<polygon fill=\"black\" stroke=\"black\" points=\"1371.81,-131 1381.81,-127.5 1371.81,-124 1371.81,-131\"/>\n</g>\n<!-- 140628126667600 -->\n<g id=\"node13\" class=\"node\">\n<title>140628126667600</title>\n<polygon fill=\"none\" stroke=\"black\" points=\"0,-165.5 0,-201.5 200,-201.5 200,-165.5 0,-165.5\"/>\n<text text-anchor=\"middle\" x=\"16.5\" y=\"-179.8\" font-family=\"Times,serif\" font-size=\"14.00\">w1</text>\n<polyline fill=\"none\" stroke=\"black\" points=\"33,-165.5 33,-201.5 \"/>\n<text text-anchor=\"middle\" x=\"75.5\" y=\"-179.8\" font-family=\"Times,serif\" font-size=\"14.00\">data &#45;3.0000</text>\n<polyline fill=\"none\" stroke=\"black\" points=\"118,-165.5 118,-201.5 \"/>\n<text text-anchor=\"middle\" x=\"159\" y=\"-179.8\" font-family=\"Times,serif\" font-size=\"14.00\">grad 1.0000</text>\n</g>\n<!-- 140628126667600&#45;&gt;140628119987856* -->\n<g id=\"edge12\" class=\"edge\">\n<title>140628126667600&#45;&gt;140628119987856*</title>\n<path fill=\"none\" stroke=\"black\" d=\"M172.53,-165.44C181.84,-162.67 191.2,-159.67 200,-156.5 210.53,-152.71 221.75,-147.9 231.72,-143.33\"/>\n<polygon fill=\"black\" stroke=\"black\" points=\"233.25,-146.48 240.82,-139.07 230.28,-140.14 233.25,-146.48\"/>\n</g>\n<!-- 140628126672272 -->\n<g id=\"node14\" class=\"node\">\n<title>140628126672272</title>\n<polygon fill=\"none\" stroke=\"black\" points=\"2.5,-0.5 2.5,-36.5 197.5,-36.5 197.5,-0.5 2.5,-0.5\"/>\n<text text-anchor=\"middle\" x=\"19\" y=\"-14.8\" font-family=\"Times,serif\" font-size=\"14.00\">w2</text>\n<polyline fill=\"none\" stroke=\"black\" points=\"35.5,-0.5 35.5,-36.5 \"/>\n<text text-anchor=\"middle\" x=\"75.5\" y=\"-14.8\" font-family=\"Times,serif\" font-size=\"14.00\">data 1.0000</text>\n<polyline fill=\"none\" stroke=\"black\" points=\"115.5,-0.5 115.5,-36.5 \"/>\n<text text-anchor=\"middle\" x=\"156.5\" y=\"-14.8\" font-family=\"Times,serif\" font-size=\"14.00\">grad 0.0000</text>\n</g>\n<!-- 140628126672272&#45;&gt;140628119987920* -->\n<g id=\"edge13\" class=\"edge\">\n<title>140628126672272&#45;&gt;140628119987920*</title>\n<path fill=\"none\" stroke=\"black\" d=\"M169.28,-36.5C179.65,-39.61 190.16,-42.98 200,-46.5 210.28,-50.17 221.28,-54.74 231.11,-59.07\"/>\n<polygon fill=\"black\" stroke=\"black\" points=\"229.93,-62.37 240.48,-63.27 232.79,-55.99 229.93,-62.37\"/>\n</g>\n<!-- 140628120374736 -->\n<g id=\"node15\" class=\"node\">\n<title>140628120374736</title>\n<polygon fill=\"none\" stroke=\"black\" points=\"2,-110.5 2,-146.5 198,-146.5 198,-110.5 2,-110.5\"/>\n<text text-anchor=\"middle\" x=\"17\" y=\"-124.8\" font-family=\"Times,serif\" font-size=\"14.00\">x1</text>\n<polyline fill=\"none\" stroke=\"black\" points=\"32,-110.5 32,-146.5 \"/>\n<text text-anchor=\"middle\" x=\"72\" y=\"-124.8\" font-family=\"Times,serif\" font-size=\"14.00\">data 2.0000</text>\n<polyline fill=\"none\" stroke=\"black\" points=\"112,-110.5 112,-146.5 \"/>\n<text text-anchor=\"middle\" x=\"155\" y=\"-124.8\" font-family=\"Times,serif\" font-size=\"14.00\">grad &#45;1.5000</text>\n</g>\n<!-- 140628120374736&#45;&gt;140628119987856* -->\n<g id=\"edge6\" class=\"edge\">\n<title>140628120374736&#45;&gt;140628119987856*</title>\n<path fill=\"none\" stroke=\"black\" d=\"M198.37,-128.5C208.05,-128.5 217.4,-128.5 225.8,-128.5\"/>\n<polygon fill=\"black\" stroke=\"black\" points=\"225.91,-132 235.91,-128.5 225.91,-125 225.91,-132\"/>\n</g>\n</g>\n</svg>\n",
            "text/plain": [
              "<graphviz.graphs.Digraph at 0x7fe689232110>"
            ]
          },
          "metadata": {},
          "execution_count": 209
        }
      ]
    },
    {
      "cell_type": "code",
      "source": [
        "# o.grad=1"
      ],
      "metadata": {
        "id": "B_LCZyqzHolI"
      },
      "execution_count": null,
      "outputs": []
    },
    {
      "cell_type": "code",
      "source": [
        "# o = n.tanh()\n",
        "# do/dn = 1 - tanh(x)**2\n",
        "\n",
        "# n.grad= 1 - o.data**2 # 0.05\n",
        "# b.grad= 0.5\n",
        "# w1x1w2x2.grad= 0.5\n",
        "\n",
        "# do/d w1x1 = do/ dn * dn/d w1x1w2x2 * d w1x1w2x2/d w1x1\n",
        "# do/ d w1x1 =  0.5 * 1 * 1 = 0.5\n",
        "# w1x1.grad=0.5\n",
        "# w2x2.grad=0.5"
      ],
      "metadata": {
        "id": "mve4RNTGoPm3"
      },
      "execution_count": null,
      "outputs": []
    },
    {
      "cell_type": "code",
      "source": [
        "# w2x2 = x2 * w2\n",
        "# d w2x2/ d x2 = w2\n",
        "# d w2x2/ d w2 = x2\n",
        "# do/ dx2 = do/ dn * dn/ d w1x1w2x2 * d w1x1w2x2/ d w2x2 * d w2x2 / dx2\n",
        "# do/ dx2 = 0.5 * d w2x2 / dx2 = 0.5 * w2 = 0.5\n",
        "# x2.grad= 0.5\n",
        "# do/dw2 = 0.5 * # d w2x2/ d w2 = 0.5 * x2 = 0\n",
        "# w2.grad=0.0\n",
        "\n",
        "# w1x1 = x1 * w1\n",
        "# d w1x1/ dx1 = w1\n",
        "# d w1x1/ dw1 = x1\n",
        "# do/dw1 = 0.5 * # d w1x1/ d w1 = 0.5 * x1 = 0.5 * 2.0 = 1.00\n",
        "# w1.grad= 1\n",
        "\n",
        "# do/ dx1 = 0.5 * d w1x1 / dx1 = 0.5 * w1 = 0.5 * -3 = -1.50\n",
        "# x1.grad= -1.50"
      ],
      "metadata": {
        "id": "gYeMzn0ao4NO"
      },
      "execution_count": null,
      "outputs": []
    },
    {
      "cell_type": "code",
      "source": [
        "# input x1, x2\n",
        "x1 = Value(2.0, label='x1')\n",
        "x2 = Value(0.0, label='x2')\n",
        "\n",
        "# weights\n",
        "w1 = Value(-3.0, label='w1')\n",
        "w2 = Value(1.0, label='w2')\n",
        "\n",
        "# bais\n",
        "b = Value(6.8813735870195432, label='b')\n",
        "\n",
        "w1x1 = w1 * x1; w1x1.label = 'w1*x1'\n",
        "w2x2 = w2 * x2; w2x2.label = 'w2*x2'\n",
        "w1x1w2x2 = w1x1 + w2x2 ; w1x1w2x2.label = 'w1*x1 + w2*x2'\n",
        "n = w1x1w2x2 + b; n.label = 'n'\n",
        "# ---\n",
        "e = (2*n).exp()\n",
        "o = (e - 1) / (e + 1)\n",
        "# ---\n",
        "o.label='o'\n",
        "o.backward()\n",
        "draw_root(o)"
      ],
      "metadata": {
        "colab": {
          "base_uri": "https://localhost:8080/",
          "height": 356
        },
        "id": "lr922G4QmxoT",
        "outputId": "4348ef3f-3a31-48e3-bf06-0cb0f9ef95a7"
      },
      "execution_count": null,
      "outputs": [
        {
          "output_type": "execute_result",
          "data": {
            "image/svg+xml": "<?xml version=\"1.0\" encoding=\"UTF-8\" standalone=\"no\"?>\n<!DOCTYPE svg PUBLIC \"-//W3C//DTD SVG 1.1//EN\"\n \"http://www.w3.org/Graphics/SVG/1.1/DTD/svg11.dtd\">\n<!-- Generated by graphviz version 2.43.0 (0)\n -->\n<!-- Title: %3 Pages: 1 -->\n<svg width=\"2949pt\" height=\"236pt\"\n viewBox=\"0.00 0.00 2949.00 236.00\" xmlns=\"http://www.w3.org/2000/svg\" xmlns:xlink=\"http://www.w3.org/1999/xlink\">\n<g id=\"graph0\" class=\"graph\" transform=\"scale(1 1) rotate(0) translate(4 232)\">\n<title>%3</title>\n<polygon fill=\"white\" stroke=\"transparent\" points=\"-4,4 -4,-232 2945,-232 2945,4 -4,4\"/>\n<!-- 140628120965200 -->\n<g id=\"node1\" class=\"node\">\n<title>140628120965200</title>\n<polygon fill=\"none\" stroke=\"black\" points=\"1382,-191.5 1382,-227.5 1569,-227.5 1569,-191.5 1382,-191.5\"/>\n<text text-anchor=\"middle\" x=\"1392\" y=\"-205.8\" font-family=\"Times,serif\" font-size=\"14.00\"> </text>\n<polyline fill=\"none\" stroke=\"black\" points=\"1402,-191.5 1402,-227.5 \"/>\n<text text-anchor=\"middle\" x=\"1444.5\" y=\"-205.8\" font-family=\"Times,serif\" font-size=\"14.00\">data &#45;1.0000</text>\n<polyline fill=\"none\" stroke=\"black\" points=\"1487,-191.5 1487,-227.5 \"/>\n<text text-anchor=\"middle\" x=\"1528\" y=\"-205.8\" font-family=\"Times,serif\" font-size=\"14.00\">grad 0.1464</text>\n</g>\n<!-- 140628120971600* -->\n<g id=\"node3\" class=\"node\">\n<title>140628120971600*</title>\n<ellipse fill=\"none\" stroke=\"black\" cx=\"1632\" cy=\"-154.5\" rx=\"27\" ry=\"18\"/>\n<text text-anchor=\"middle\" x=\"1632\" y=\"-150.8\" font-family=\"Times,serif\" font-size=\"14.00\">*</text>\n</g>\n<!-- 140628120965200&#45;&gt;140628120971600* -->\n<g id=\"edge27\" class=\"edge\">\n<title>140628120965200&#45;&gt;140628120971600*</title>\n<path fill=\"none\" stroke=\"black\" d=\"M1542.56,-191.45C1551.51,-188.64 1560.53,-185.63 1569,-182.5 1579.49,-178.62 1590.71,-173.78 1600.68,-169.22\"/>\n<polygon fill=\"black\" stroke=\"black\" points=\"1602.2,-172.37 1609.79,-164.97 1599.25,-166.02 1602.2,-172.37\"/>\n</g>\n<!-- 140628120971600 -->\n<g id=\"node2\" class=\"node\">\n<title>140628120971600</title>\n<polygon fill=\"none\" stroke=\"black\" points=\"1695,-136.5 1695,-172.5 1882,-172.5 1882,-136.5 1695,-136.5\"/>\n<text text-anchor=\"middle\" x=\"1705\" y=\"-150.8\" font-family=\"Times,serif\" font-size=\"14.00\"> </text>\n<polyline fill=\"none\" stroke=\"black\" points=\"1715,-136.5 1715,-172.5 \"/>\n<text text-anchor=\"middle\" x=\"1757.5\" y=\"-150.8\" font-family=\"Times,serif\" font-size=\"14.00\">data &#45;1.0000</text>\n<polyline fill=\"none\" stroke=\"black\" points=\"1800,-136.5 1800,-172.5 \"/>\n<text text-anchor=\"middle\" x=\"1841\" y=\"-150.8\" font-family=\"Times,serif\" font-size=\"14.00\">grad 0.1464</text>\n</g>\n<!-- 140628120969616+ -->\n<g id=\"node5\" class=\"node\">\n<title>140628120969616+</title>\n<ellipse fill=\"none\" stroke=\"black\" cx=\"1945\" cy=\"-126.5\" rx=\"27\" ry=\"18\"/>\n<text text-anchor=\"middle\" x=\"1945\" y=\"-122.8\" font-family=\"Times,serif\" font-size=\"14.00\">+</text>\n</g>\n<!-- 140628120971600&#45;&gt;140628120969616+ -->\n<g id=\"edge26\" class=\"edge\">\n<title>140628120971600&#45;&gt;140628120969616+</title>\n<path fill=\"none\" stroke=\"black\" d=\"M1882.05,-137.73C1891.54,-136.01 1900.71,-134.35 1908.95,-132.85\"/>\n<polygon fill=\"black\" stroke=\"black\" points=\"1909.64,-136.28 1918.85,-131.06 1908.39,-129.4 1909.64,-136.28\"/>\n</g>\n<!-- 140628120971600*&#45;&gt;140628120971600 -->\n<g id=\"edge1\" class=\"edge\">\n<title>140628120971600*&#45;&gt;140628120971600</title>\n<path fill=\"none\" stroke=\"black\" d=\"M1659.21,-154.5C1666.73,-154.5 1675.43,-154.5 1684.67,-154.5\"/>\n<polygon fill=\"black\" stroke=\"black\" points=\"1684.89,-158 1694.89,-154.5 1684.89,-151 1684.89,-158\"/>\n</g>\n<!-- 140628120969616 -->\n<g id=\"node4\" class=\"node\">\n<title>140628120969616</title>\n<polygon fill=\"none\" stroke=\"black\" points=\"2230,-108.5 2230,-144.5 2412,-144.5 2412,-108.5 2230,-108.5\"/>\n<text text-anchor=\"middle\" x=\"2240\" y=\"-122.8\" font-family=\"Times,serif\" font-size=\"14.00\"> </text>\n<polyline fill=\"none\" stroke=\"black\" points=\"2250,-108.5 2250,-144.5 \"/>\n<text text-anchor=\"middle\" x=\"2290\" y=\"-122.8\" font-family=\"Times,serif\" font-size=\"14.00\">data 4.8284</text>\n<polyline fill=\"none\" stroke=\"black\" points=\"2330,-108.5 2330,-144.5 \"/>\n<text text-anchor=\"middle\" x=\"2371\" y=\"-122.8\" font-family=\"Times,serif\" font-size=\"14.00\">grad 0.1464</text>\n</g>\n<!-- 140628120972560* -->\n<g id=\"node15\" class=\"node\">\n<title>140628120972560*</title>\n<ellipse fill=\"none\" stroke=\"black\" cx=\"2693\" cy=\"-98.5\" rx=\"27\" ry=\"18\"/>\n<text text-anchor=\"middle\" x=\"2693\" y=\"-94.8\" font-family=\"Times,serif\" font-size=\"14.00\">*</text>\n</g>\n<!-- 140628120969616&#45;&gt;140628120972560* -->\n<g id=\"edge28\" class=\"edge\">\n<title>140628120969616&#45;&gt;140628120972560*</title>\n<path fill=\"none\" stroke=\"black\" d=\"M2412.31,-119.9C2473.7,-115.37 2556.76,-109.19 2630,-103.5 2638.42,-102.85 2647.48,-102.13 2656.01,-101.44\"/>\n<polygon fill=\"black\" stroke=\"black\" points=\"2656.37,-104.92 2666.06,-100.63 2655.81,-97.94 2656.37,-104.92\"/>\n</g>\n<!-- 140628120969616+&#45;&gt;140628120969616 -->\n<g id=\"edge2\" class=\"edge\">\n<title>140628120969616+&#45;&gt;140628120969616</title>\n<path fill=\"none\" stroke=\"black\" d=\"M1972,-126.5C2022.46,-126.5 2136.06,-126.5 2219.81,-126.5\"/>\n<polygon fill=\"black\" stroke=\"black\" points=\"2219.87,-130 2229.87,-126.5 2219.87,-123 2219.87,-130\"/>\n</g>\n<!-- 140628120037904 -->\n<g id=\"node6\" class=\"node\">\n<title>140628120037904</title>\n<polygon fill=\"none\" stroke=\"black\" points=\"328.5,-110.5 328.5,-146.5 543.5,-146.5 543.5,-110.5 328.5,-110.5\"/>\n<text text-anchor=\"middle\" x=\"355\" y=\"-124.8\" font-family=\"Times,serif\" font-size=\"14.00\">w2*x2</text>\n<polyline fill=\"none\" stroke=\"black\" points=\"381.5,-110.5 381.5,-146.5 \"/>\n<text text-anchor=\"middle\" x=\"421.5\" y=\"-124.8\" font-family=\"Times,serif\" font-size=\"14.00\">data 0.0000</text>\n<polyline fill=\"none\" stroke=\"black\" points=\"461.5,-110.5 461.5,-146.5 \"/>\n<text text-anchor=\"middle\" x=\"502.5\" y=\"-124.8\" font-family=\"Times,serif\" font-size=\"14.00\">grad 0.5000</text>\n</g>\n<!-- 140628120038032+ -->\n<g id=\"node9\" class=\"node\">\n<title>140628120038032+</title>\n<ellipse fill=\"none\" stroke=\"black\" cx=\"609\" cy=\"-100.5\" rx=\"27\" ry=\"18\"/>\n<text text-anchor=\"middle\" x=\"609\" y=\"-96.8\" font-family=\"Times,serif\" font-size=\"14.00\">+</text>\n</g>\n<!-- 140628120037904&#45;&gt;140628120038032+ -->\n<g id=\"edge22\" class=\"edge\">\n<title>140628120037904&#45;&gt;140628120038032+</title>\n<path fill=\"none\" stroke=\"black\" d=\"M543.84,-111.01C554.01,-109.34 563.76,-107.74 572.44,-106.32\"/>\n<polygon fill=\"black\" stroke=\"black\" points=\"573.17,-109.75 582.47,-104.68 572.04,-102.84 573.17,-109.75\"/>\n</g>\n<!-- 140628120037904* -->\n<g id=\"node7\" class=\"node\">\n<title>140628120037904*</title>\n<ellipse fill=\"none\" stroke=\"black\" cx=\"263\" cy=\"-128.5\" rx=\"27\" ry=\"18\"/>\n<text text-anchor=\"middle\" x=\"263\" y=\"-124.8\" font-family=\"Times,serif\" font-size=\"14.00\">*</text>\n</g>\n<!-- 140628120037904*&#45;&gt;140628120037904 -->\n<g id=\"edge3\" class=\"edge\">\n<title>140628120037904*&#45;&gt;140628120037904</title>\n<path fill=\"none\" stroke=\"black\" d=\"M290.34,-128.5C298.51,-128.5 308.08,-128.5 318.36,-128.5\"/>\n<polygon fill=\"black\" stroke=\"black\" points=\"318.39,-132 328.39,-128.5 318.39,-125 318.39,-132\"/>\n</g>\n<!-- 140628120038032 -->\n<g id=\"node8\" class=\"node\">\n<title>140628120038032</title>\n<polygon fill=\"none\" stroke=\"black\" points=\"672,-82.5 672,-118.5 945,-118.5 945,-82.5 672,-82.5\"/>\n<text text-anchor=\"middle\" x=\"725\" y=\"-96.8\" font-family=\"Times,serif\" font-size=\"14.00\">w1*x1 + w2*x2</text>\n<polyline fill=\"none\" stroke=\"black\" points=\"778,-82.5 778,-118.5 \"/>\n<text text-anchor=\"middle\" x=\"820.5\" y=\"-96.8\" font-family=\"Times,serif\" font-size=\"14.00\">data &#45;6.0000</text>\n<polyline fill=\"none\" stroke=\"black\" points=\"863,-82.5 863,-118.5 \"/>\n<text text-anchor=\"middle\" x=\"904\" y=\"-96.8\" font-family=\"Times,serif\" font-size=\"14.00\">grad 0.5000</text>\n</g>\n<!-- 140628120030672+ -->\n<g id=\"node20\" class=\"node\">\n<title>140628120030672+</title>\n<ellipse fill=\"none\" stroke=\"black\" cx=\"1008\" cy=\"-72.5\" rx=\"27\" ry=\"18\"/>\n<text text-anchor=\"middle\" x=\"1008\" y=\"-68.8\" font-family=\"Times,serif\" font-size=\"14.00\">+</text>\n</g>\n<!-- 140628120038032&#45;&gt;140628120030672+ -->\n<g id=\"edge24\" class=\"edge\">\n<title>140628120038032&#45;&gt;140628120030672+</title>\n<path fill=\"none\" stroke=\"black\" d=\"M936.53,-82.49C949.09,-80.71 960.99,-79.02 971.3,-77.56\"/>\n<polygon fill=\"black\" stroke=\"black\" points=\"972.03,-80.99 981.44,-76.12 971.05,-74.06 972.03,-80.99\"/>\n</g>\n<!-- 140628120038032+&#45;&gt;140628120038032 -->\n<g id=\"edge4\" class=\"edge\">\n<title>140628120038032+&#45;&gt;140628120038032</title>\n<path fill=\"none\" stroke=\"black\" d=\"M636.23,-100.5C643.7,-100.5 652.41,-100.5 661.87,-100.5\"/>\n<polygon fill=\"black\" stroke=\"black\" points=\"661.98,-104 671.98,-100.5 661.98,-97 661.98,-104\"/>\n</g>\n<!-- 140628119636688 -->\n<g id=\"node10\" class=\"node\">\n<title>140628119636688</title>\n<polygon fill=\"none\" stroke=\"black\" points=\"2.5,-165.5 2.5,-201.5 197.5,-201.5 197.5,-165.5 2.5,-165.5\"/>\n<text text-anchor=\"middle\" x=\"19\" y=\"-179.8\" font-family=\"Times,serif\" font-size=\"14.00\">w2</text>\n<polyline fill=\"none\" stroke=\"black\" points=\"35.5,-165.5 35.5,-201.5 \"/>\n<text text-anchor=\"middle\" x=\"75.5\" y=\"-179.8\" font-family=\"Times,serif\" font-size=\"14.00\">data 1.0000</text>\n<polyline fill=\"none\" stroke=\"black\" points=\"115.5,-165.5 115.5,-201.5 \"/>\n<text text-anchor=\"middle\" x=\"156.5\" y=\"-179.8\" font-family=\"Times,serif\" font-size=\"14.00\">grad 0.0000</text>\n</g>\n<!-- 140628119636688&#45;&gt;140628120037904* -->\n<g id=\"edge23\" class=\"edge\">\n<title>140628119636688&#45;&gt;140628120037904*</title>\n<path fill=\"none\" stroke=\"black\" d=\"M172.53,-165.44C181.84,-162.67 191.2,-159.67 200,-156.5 210.53,-152.71 221.75,-147.9 231.72,-143.33\"/>\n<polygon fill=\"black\" stroke=\"black\" points=\"233.25,-146.48 240.82,-139.07 230.28,-140.14 233.25,-146.48\"/>\n</g>\n<!-- 140628120038160 -->\n<g id=\"node11\" class=\"node\">\n<title>140628120038160</title>\n<polygon fill=\"none\" stroke=\"black\" points=\"716,-27.5 716,-63.5 901,-63.5 901,-27.5 716,-27.5\"/>\n<text text-anchor=\"middle\" x=\"727.5\" y=\"-41.8\" font-family=\"Times,serif\" font-size=\"14.00\">b</text>\n<polyline fill=\"none\" stroke=\"black\" points=\"739,-27.5 739,-63.5 \"/>\n<text text-anchor=\"middle\" x=\"779\" y=\"-41.8\" font-family=\"Times,serif\" font-size=\"14.00\">data 6.8814</text>\n<polyline fill=\"none\" stroke=\"black\" points=\"819,-27.5 819,-63.5 \"/>\n<text text-anchor=\"middle\" x=\"860\" y=\"-41.8\" font-family=\"Times,serif\" font-size=\"14.00\">grad 0.5000</text>\n</g>\n<!-- 140628120038160&#45;&gt;140628120030672+ -->\n<g id=\"edge31\" class=\"edge\">\n<title>140628120038160&#45;&gt;140628120030672+</title>\n<path fill=\"none\" stroke=\"black\" d=\"M901.02,-58.01C926,-61.43 951.59,-64.93 971.37,-67.63\"/>\n<polygon fill=\"black\" stroke=\"black\" points=\"971.05,-71.12 981.43,-69.01 972,-64.18 971.05,-71.12\"/>\n</g>\n<!-- 140628120036368 -->\n<g id=\"node12\" class=\"node\">\n<title>140628120036368</title>\n<polygon fill=\"none\" stroke=\"black\" points=\"1072.5,-109.5 1072.5,-145.5 1254.5,-145.5 1254.5,-109.5 1072.5,-109.5\"/>\n<text text-anchor=\"middle\" x=\"1082.5\" y=\"-123.8\" font-family=\"Times,serif\" font-size=\"14.00\"> </text>\n<polyline fill=\"none\" stroke=\"black\" points=\"1092.5,-109.5 1092.5,-145.5 \"/>\n<text text-anchor=\"middle\" x=\"1132.5\" y=\"-123.8\" font-family=\"Times,serif\" font-size=\"14.00\">data 2.0000</text>\n<polyline fill=\"none\" stroke=\"black\" points=\"1172.5,-109.5 1172.5,-145.5 \"/>\n<text text-anchor=\"middle\" x=\"1213.5\" y=\"-123.8\" font-family=\"Times,serif\" font-size=\"14.00\">grad 0.2203</text>\n</g>\n<!-- 140628120038992* -->\n<g id=\"node22\" class=\"node\">\n<title>140628120038992*</title>\n<ellipse fill=\"none\" stroke=\"black\" cx=\"1319\" cy=\"-99.5\" rx=\"27\" ry=\"18\"/>\n<text text-anchor=\"middle\" x=\"1319\" y=\"-95.8\" font-family=\"Times,serif\" font-size=\"14.00\">*</text>\n</g>\n<!-- 140628120036368&#45;&gt;140628120038992* -->\n<g id=\"edge20\" class=\"edge\">\n<title>140628120036368&#45;&gt;140628120038992*</title>\n<path fill=\"none\" stroke=\"black\" d=\"M1254.68,-111.05C1264.61,-109.24 1274.23,-107.48 1282.84,-105.91\"/>\n<polygon fill=\"black\" stroke=\"black\" points=\"1283.6,-109.33 1292.81,-104.09 1282.35,-102.45 1283.6,-109.33\"/>\n</g>\n<!-- 140628119069776 -->\n<g id=\"node13\" class=\"node\">\n<title>140628119069776</title>\n<polygon fill=\"none\" stroke=\"black\" points=\"2,-55.5 2,-91.5 198,-91.5 198,-55.5 2,-55.5\"/>\n<text text-anchor=\"middle\" x=\"17\" y=\"-69.8\" font-family=\"Times,serif\" font-size=\"14.00\">x1</text>\n<polyline fill=\"none\" stroke=\"black\" points=\"32,-55.5 32,-91.5 \"/>\n<text text-anchor=\"middle\" x=\"72\" y=\"-69.8\" font-family=\"Times,serif\" font-size=\"14.00\">data 2.0000</text>\n<polyline fill=\"none\" stroke=\"black\" points=\"112,-55.5 112,-91.5 \"/>\n<text text-anchor=\"middle\" x=\"155\" y=\"-69.8\" font-family=\"Times,serif\" font-size=\"14.00\">grad &#45;1.5000</text>\n</g>\n<!-- 140628120043152* -->\n<g id=\"node25\" class=\"node\">\n<title>140628120043152*</title>\n<ellipse fill=\"none\" stroke=\"black\" cx=\"263\" cy=\"-73.5\" rx=\"27\" ry=\"18\"/>\n<text text-anchor=\"middle\" x=\"263\" y=\"-69.8\" font-family=\"Times,serif\" font-size=\"14.00\">*</text>\n</g>\n<!-- 140628119069776&#45;&gt;140628120043152* -->\n<g id=\"edge25\" class=\"edge\">\n<title>140628119069776&#45;&gt;140628120043152*</title>\n<path fill=\"none\" stroke=\"black\" d=\"M198.37,-73.5C208.05,-73.5 217.4,-73.5 225.8,-73.5\"/>\n<polygon fill=\"black\" stroke=\"black\" points=\"225.91,-77 235.91,-73.5 225.91,-70 225.91,-77\"/>\n</g>\n<!-- 140628120972560 -->\n<g id=\"node14\" class=\"node\">\n<title>140628120972560</title>\n<polygon fill=\"none\" stroke=\"black\" points=\"2756,-80.5 2756,-116.5 2941,-116.5 2941,-80.5 2756,-80.5\"/>\n<text text-anchor=\"middle\" x=\"2767.5\" y=\"-94.8\" font-family=\"Times,serif\" font-size=\"14.00\">o</text>\n<polyline fill=\"none\" stroke=\"black\" points=\"2779,-80.5 2779,-116.5 \"/>\n<text text-anchor=\"middle\" x=\"2819\" y=\"-94.8\" font-family=\"Times,serif\" font-size=\"14.00\">data 0.7071</text>\n<polyline fill=\"none\" stroke=\"black\" points=\"2859,-80.5 2859,-116.5 \"/>\n<text text-anchor=\"middle\" x=\"2900\" y=\"-94.8\" font-family=\"Times,serif\" font-size=\"14.00\">grad 1.0000</text>\n</g>\n<!-- 140628120972560*&#45;&gt;140628120972560 -->\n<g id=\"edge5\" class=\"edge\">\n<title>140628120972560*&#45;&gt;140628120972560</title>\n<path fill=\"none\" stroke=\"black\" d=\"M2720.04,-98.5C2727.58,-98.5 2736.3,-98.5 2745.57,-98.5\"/>\n<polygon fill=\"black\" stroke=\"black\" points=\"2745.81,-102 2755.81,-98.5 2745.81,-95 2745.81,-102\"/>\n</g>\n<!-- 140628119647504 -->\n<g id=\"node16\" class=\"node\">\n<title>140628119647504</title>\n<polygon fill=\"none\" stroke=\"black\" points=\"0,-0.5 0,-36.5 200,-36.5 200,-0.5 0,-0.5\"/>\n<text text-anchor=\"middle\" x=\"16.5\" y=\"-14.8\" font-family=\"Times,serif\" font-size=\"14.00\">w1</text>\n<polyline fill=\"none\" stroke=\"black\" points=\"33,-0.5 33,-36.5 \"/>\n<text text-anchor=\"middle\" x=\"75.5\" y=\"-14.8\" font-family=\"Times,serif\" font-size=\"14.00\">data &#45;3.0000</text>\n<polyline fill=\"none\" stroke=\"black\" points=\"118,-0.5 118,-36.5 \"/>\n<text text-anchor=\"middle\" x=\"159\" y=\"-14.8\" font-family=\"Times,serif\" font-size=\"14.00\">grad 1.0000</text>\n</g>\n<!-- 140628119647504&#45;&gt;140628120043152* -->\n<g id=\"edge29\" class=\"edge\">\n<title>140628119647504&#45;&gt;140628120043152*</title>\n<path fill=\"none\" stroke=\"black\" d=\"M172.53,-36.56C181.84,-39.33 191.2,-42.33 200,-45.5 210.53,-49.29 221.75,-54.1 231.72,-58.67\"/>\n<polygon fill=\"black\" stroke=\"black\" points=\"230.28,-61.86 240.82,-62.93 233.25,-55.52 230.28,-61.86\"/>\n</g>\n<!-- 140628120972624 -->\n<g id=\"node17\" class=\"node\">\n<title>140628120972624</title>\n<polygon fill=\"none\" stroke=\"black\" points=\"2008,-53.5 2008,-89.5 2194,-89.5 2194,-53.5 2008,-53.5\"/>\n<text text-anchor=\"middle\" x=\"2018\" y=\"-67.8\" font-family=\"Times,serif\" font-size=\"14.00\"> </text>\n<polyline fill=\"none\" stroke=\"black\" points=\"2028,-53.5 2028,-89.5 \"/>\n<text text-anchor=\"middle\" x=\"2068\" y=\"-67.8\" font-family=\"Times,serif\" font-size=\"14.00\">data 6.8284</text>\n<polyline fill=\"none\" stroke=\"black\" points=\"2108,-53.5 2108,-89.5 \"/>\n<text text-anchor=\"middle\" x=\"2151\" y=\"-67.8\" font-family=\"Times,serif\" font-size=\"14.00\">grad &#45;0.1036</text>\n</g>\n<!-- 140628116500112**&#45;1 -->\n<g id=\"node27\" class=\"node\">\n<title>140628116500112**&#45;1</title>\n<ellipse fill=\"none\" stroke=\"black\" cx=\"2321\" cy=\"-71.5\" rx=\"27\" ry=\"18\"/>\n<text text-anchor=\"middle\" x=\"2321\" y=\"-67.8\" font-family=\"Times,serif\" font-size=\"14.00\">**&#45;1</text>\n</g>\n<!-- 140628120972624&#45;&gt;140628116500112**&#45;1 -->\n<g id=\"edge15\" class=\"edge\">\n<title>140628120972624&#45;&gt;140628116500112**&#45;1</title>\n<path fill=\"none\" stroke=\"black\" d=\"M2194.14,-71.5C2225.72,-71.5 2259.24,-71.5 2283.74,-71.5\"/>\n<polygon fill=\"black\" stroke=\"black\" points=\"2283.98,-75 2293.98,-71.5 2283.98,-68 2283.98,-75\"/>\n</g>\n<!-- 140628120972624+ -->\n<g id=\"node18\" class=\"node\">\n<title>140628120972624+</title>\n<ellipse fill=\"none\" stroke=\"black\" cx=\"1945\" cy=\"-71.5\" rx=\"27\" ry=\"18\"/>\n<text text-anchor=\"middle\" x=\"1945\" y=\"-67.8\" font-family=\"Times,serif\" font-size=\"14.00\">+</text>\n</g>\n<!-- 140628120972624+&#45;&gt;140628120972624 -->\n<g id=\"edge6\" class=\"edge\">\n<title>140628120972624+&#45;&gt;140628120972624</title>\n<path fill=\"none\" stroke=\"black\" d=\"M1972.12,-71.5C1979.62,-71.5 1988.29,-71.5 1997.5,-71.5\"/>\n<polygon fill=\"black\" stroke=\"black\" points=\"1997.69,-75 2007.69,-71.5 1997.69,-68 1997.69,-75\"/>\n</g>\n<!-- 140628120030672 -->\n<g id=\"node19\" class=\"node\">\n<title>140628120030672</title>\n<polygon fill=\"none\" stroke=\"black\" points=\"1071,-54.5 1071,-90.5 1256,-90.5 1256,-54.5 1071,-54.5\"/>\n<text text-anchor=\"middle\" x=\"1082.5\" y=\"-68.8\" font-family=\"Times,serif\" font-size=\"14.00\">n</text>\n<polyline fill=\"none\" stroke=\"black\" points=\"1094,-54.5 1094,-90.5 \"/>\n<text text-anchor=\"middle\" x=\"1134\" y=\"-68.8\" font-family=\"Times,serif\" font-size=\"14.00\">data 0.8814</text>\n<polyline fill=\"none\" stroke=\"black\" points=\"1174,-54.5 1174,-90.5 \"/>\n<text text-anchor=\"middle\" x=\"1215\" y=\"-68.8\" font-family=\"Times,serif\" font-size=\"14.00\">grad 0.5000</text>\n</g>\n<!-- 140628120030672&#45;&gt;140628120038992* -->\n<g id=\"edge14\" class=\"edge\">\n<title>140628120030672&#45;&gt;140628120038992*</title>\n<path fill=\"none\" stroke=\"black\" d=\"M1256.01,-88.6C1265.49,-90.26 1274.66,-91.88 1282.9,-93.33\"/>\n<polygon fill=\"black\" stroke=\"black\" points=\"1282.36,-96.78 1292.81,-95.07 1283.57,-89.89 1282.36,-96.78\"/>\n</g>\n<!-- 140628120030672+&#45;&gt;140628120030672 -->\n<g id=\"edge7\" class=\"edge\">\n<title>140628120030672+&#45;&gt;140628120030672</title>\n<path fill=\"none\" stroke=\"black\" d=\"M1035.04,-72.5C1042.58,-72.5 1051.3,-72.5 1060.57,-72.5\"/>\n<polygon fill=\"black\" stroke=\"black\" points=\"1060.81,-76 1070.81,-72.5 1060.81,-69 1060.81,-76\"/>\n</g>\n<!-- 140628120038992 -->\n<g id=\"node21\" class=\"node\">\n<title>140628120038992</title>\n<polygon fill=\"none\" stroke=\"black\" points=\"1384.5,-81.5 1384.5,-117.5 1566.5,-117.5 1566.5,-81.5 1384.5,-81.5\"/>\n<text text-anchor=\"middle\" x=\"1394.5\" y=\"-95.8\" font-family=\"Times,serif\" font-size=\"14.00\"> </text>\n<polyline fill=\"none\" stroke=\"black\" points=\"1404.5,-81.5 1404.5,-117.5 \"/>\n<text text-anchor=\"middle\" x=\"1444.5\" y=\"-95.8\" font-family=\"Times,serif\" font-size=\"14.00\">data 1.7627</text>\n<polyline fill=\"none\" stroke=\"black\" points=\"1484.5,-81.5 1484.5,-117.5 \"/>\n<text text-anchor=\"middle\" x=\"1525.5\" y=\"-95.8\" font-family=\"Times,serif\" font-size=\"14.00\">grad 0.2500</text>\n</g>\n<!-- 140628120033168exp -->\n<g id=\"node31\" class=\"node\">\n<title>140628120033168exp</title>\n<ellipse fill=\"none\" stroke=\"black\" cx=\"1632\" cy=\"-99.5\" rx=\"27\" ry=\"18\"/>\n<text text-anchor=\"middle\" x=\"1632\" y=\"-95.8\" font-family=\"Times,serif\" font-size=\"14.00\">exp</text>\n</g>\n<!-- 140628120038992&#45;&gt;140628120033168exp -->\n<g id=\"edge19\" class=\"edge\">\n<title>140628120038992&#45;&gt;140628120033168exp</title>\n<path fill=\"none\" stroke=\"black\" d=\"M1566.82,-99.5C1576.57,-99.5 1586.04,-99.5 1594.57,-99.5\"/>\n<polygon fill=\"black\" stroke=\"black\" points=\"1594.83,-103 1604.83,-99.5 1594.83,-96 1594.83,-103\"/>\n</g>\n<!-- 140628120038992*&#45;&gt;140628120038992 -->\n<g id=\"edge8\" class=\"edge\">\n<title>140628120038992*&#45;&gt;140628120038992</title>\n<path fill=\"none\" stroke=\"black\" d=\"M1346.21,-99.5C1354.34,-99.5 1363.85,-99.5 1373.94,-99.5\"/>\n<polygon fill=\"black\" stroke=\"black\" points=\"1374.19,-103 1384.19,-99.5 1374.19,-96 1374.19,-103\"/>\n</g>\n<!-- 140628120968784 -->\n<g id=\"node23\" class=\"node\">\n<title>140628120968784</title>\n<polygon fill=\"none\" stroke=\"black\" points=\"1695.5,-26.5 1695.5,-62.5 1881.5,-62.5 1881.5,-26.5 1695.5,-26.5\"/>\n<text text-anchor=\"middle\" x=\"1705.5\" y=\"-40.8\" font-family=\"Times,serif\" font-size=\"14.00\"> </text>\n<polyline fill=\"none\" stroke=\"black\" points=\"1715.5,-26.5 1715.5,-62.5 \"/>\n<text text-anchor=\"middle\" x=\"1755.5\" y=\"-40.8\" font-family=\"Times,serif\" font-size=\"14.00\">data 1.0000</text>\n<polyline fill=\"none\" stroke=\"black\" points=\"1795.5,-26.5 1795.5,-62.5 \"/>\n<text text-anchor=\"middle\" x=\"1838.5\" y=\"-40.8\" font-family=\"Times,serif\" font-size=\"14.00\">grad &#45;0.1036</text>\n</g>\n<!-- 140628120968784&#45;&gt;140628120972624+ -->\n<g id=\"edge13\" class=\"edge\">\n<title>140628120968784&#45;&gt;140628120972624+</title>\n<path fill=\"none\" stroke=\"black\" d=\"M1881.6,-60.6C1891.15,-62.26 1900.37,-63.88 1908.68,-65.33\"/>\n<polygon fill=\"black\" stroke=\"black\" points=\"1908.2,-68.8 1918.65,-67.07 1909.4,-61.9 1908.2,-68.8\"/>\n</g>\n<!-- 140628120043152 -->\n<g id=\"node24\" class=\"node\">\n<title>140628120043152</title>\n<polygon fill=\"none\" stroke=\"black\" points=\"326,-55.5 326,-91.5 546,-91.5 546,-55.5 326,-55.5\"/>\n<text text-anchor=\"middle\" x=\"352.5\" y=\"-69.8\" font-family=\"Times,serif\" font-size=\"14.00\">w1*x1</text>\n<polyline fill=\"none\" stroke=\"black\" points=\"379,-55.5 379,-91.5 \"/>\n<text text-anchor=\"middle\" x=\"421.5\" y=\"-69.8\" font-family=\"Times,serif\" font-size=\"14.00\">data &#45;6.0000</text>\n<polyline fill=\"none\" stroke=\"black\" points=\"464,-55.5 464,-91.5 \"/>\n<text text-anchor=\"middle\" x=\"505\" y=\"-69.8\" font-family=\"Times,serif\" font-size=\"14.00\">grad 0.5000</text>\n</g>\n<!-- 140628120043152&#45;&gt;140628120038032+ -->\n<g id=\"edge17\" class=\"edge\">\n<title>140628120043152&#45;&gt;140628120038032+</title>\n<path fill=\"none\" stroke=\"black\" d=\"M546.27,-90.75C555.64,-92.23 564.6,-93.65 572.65,-94.92\"/>\n<polygon fill=\"black\" stroke=\"black\" points=\"572.23,-98.4 582.65,-96.5 573.32,-91.48 572.23,-98.4\"/>\n</g>\n<!-- 140628120043152*&#45;&gt;140628120043152 -->\n<g id=\"edge9\" class=\"edge\">\n<title>140628120043152*&#45;&gt;140628120043152</title>\n<path fill=\"none\" stroke=\"black\" d=\"M290.34,-73.5C297.77,-73.5 306.37,-73.5 315.6,-73.5\"/>\n<polygon fill=\"black\" stroke=\"black\" points=\"315.84,-77 325.84,-73.5 315.84,-70 315.84,-77\"/>\n</g>\n<!-- 140628116500112 -->\n<g id=\"node26\" class=\"node\">\n<title>140628116500112</title>\n<polygon fill=\"none\" stroke=\"black\" points=\"2448,-57.5 2448,-93.5 2630,-93.5 2630,-57.5 2448,-57.5\"/>\n<text text-anchor=\"middle\" x=\"2458\" y=\"-71.8\" font-family=\"Times,serif\" font-size=\"14.00\"> </text>\n<polyline fill=\"none\" stroke=\"black\" points=\"2468,-57.5 2468,-93.5 \"/>\n<text text-anchor=\"middle\" x=\"2508\" y=\"-71.8\" font-family=\"Times,serif\" font-size=\"14.00\">data 0.1464</text>\n<polyline fill=\"none\" stroke=\"black\" points=\"2548,-57.5 2548,-93.5 \"/>\n<text text-anchor=\"middle\" x=\"2589\" y=\"-71.8\" font-family=\"Times,serif\" font-size=\"14.00\">grad 4.8284</text>\n</g>\n<!-- 140628116500112&#45;&gt;140628120972560* -->\n<g id=\"edge12\" class=\"edge\">\n<title>140628116500112&#45;&gt;140628120972560*</title>\n<path fill=\"none\" stroke=\"black\" d=\"M2630.18,-89.15C2639.42,-90.54 2648.38,-91.9 2656.47,-93.12\"/>\n<polygon fill=\"black\" stroke=\"black\" points=\"2656.15,-96.61 2666.56,-94.65 2657.19,-89.69 2656.15,-96.61\"/>\n</g>\n<!-- 140628116500112**&#45;1&#45;&gt;140628116500112 -->\n<g id=\"edge10\" class=\"edge\">\n<title>140628116500112**&#45;1&#45;&gt;140628116500112</title>\n<path fill=\"none\" stroke=\"black\" d=\"M2348.05,-71.98C2370.53,-72.4 2404.48,-73.03 2437.5,-73.64\"/>\n<polygon fill=\"black\" stroke=\"black\" points=\"2437.64,-77.14 2447.7,-73.83 2437.77,-70.14 2437.64,-77.14\"/>\n</g>\n<!-- 140628119639760 -->\n<g id=\"node28\" class=\"node\">\n<title>140628119639760</title>\n<polygon fill=\"none\" stroke=\"black\" points=\"4,-110.5 4,-146.5 196,-146.5 196,-110.5 4,-110.5\"/>\n<text text-anchor=\"middle\" x=\"19\" y=\"-124.8\" font-family=\"Times,serif\" font-size=\"14.00\">x2</text>\n<polyline fill=\"none\" stroke=\"black\" points=\"34,-110.5 34,-146.5 \"/>\n<text text-anchor=\"middle\" x=\"74\" y=\"-124.8\" font-family=\"Times,serif\" font-size=\"14.00\">data 0.0000</text>\n<polyline fill=\"none\" stroke=\"black\" points=\"114,-110.5 114,-146.5 \"/>\n<text text-anchor=\"middle\" x=\"155\" y=\"-124.8\" font-family=\"Times,serif\" font-size=\"14.00\">grad 0.5000</text>\n</g>\n<!-- 140628119639760&#45;&gt;140628120037904* -->\n<g id=\"edge18\" class=\"edge\">\n<title>140628119639760&#45;&gt;140628120037904*</title>\n<path fill=\"none\" stroke=\"black\" d=\"M196.05,-128.5C206.52,-128.5 216.65,-128.5 225.71,-128.5\"/>\n<polygon fill=\"black\" stroke=\"black\" points=\"225.79,-132 235.79,-128.5 225.79,-125 225.79,-132\"/>\n</g>\n<!-- 140628120299344 -->\n<g id=\"node29\" class=\"node\">\n<title>140628120299344</title>\n<polygon fill=\"none\" stroke=\"black\" points=\"1382.5,-136.5 1382.5,-172.5 1568.5,-172.5 1568.5,-136.5 1382.5,-136.5\"/>\n<text text-anchor=\"middle\" x=\"1392.5\" y=\"-150.8\" font-family=\"Times,serif\" font-size=\"14.00\"> </text>\n<polyline fill=\"none\" stroke=\"black\" points=\"1402.5,-136.5 1402.5,-172.5 \"/>\n<text text-anchor=\"middle\" x=\"1442.5\" y=\"-150.8\" font-family=\"Times,serif\" font-size=\"14.00\">data 1.0000</text>\n<polyline fill=\"none\" stroke=\"black\" points=\"1482.5,-136.5 1482.5,-172.5 \"/>\n<text text-anchor=\"middle\" x=\"1525.5\" y=\"-150.8\" font-family=\"Times,serif\" font-size=\"14.00\">grad &#45;0.1464</text>\n</g>\n<!-- 140628120299344&#45;&gt;140628120971600* -->\n<g id=\"edge16\" class=\"edge\">\n<title>140628120299344&#45;&gt;140628120971600*</title>\n<path fill=\"none\" stroke=\"black\" d=\"M1568.6,-154.5C1577.77,-154.5 1586.65,-154.5 1594.69,-154.5\"/>\n<polygon fill=\"black\" stroke=\"black\" points=\"1594.74,-158 1604.74,-154.5 1594.74,-151 1594.74,-158\"/>\n</g>\n<!-- 140628120033168 -->\n<g id=\"node30\" class=\"node\">\n<title>140628120033168</title>\n<polygon fill=\"none\" stroke=\"black\" points=\"1697.5,-81.5 1697.5,-117.5 1879.5,-117.5 1879.5,-81.5 1697.5,-81.5\"/>\n<text text-anchor=\"middle\" x=\"1707.5\" y=\"-95.8\" font-family=\"Times,serif\" font-size=\"14.00\"> </text>\n<polyline fill=\"none\" stroke=\"black\" points=\"1717.5,-81.5 1717.5,-117.5 \"/>\n<text text-anchor=\"middle\" x=\"1757.5\" y=\"-95.8\" font-family=\"Times,serif\" font-size=\"14.00\">data 5.8284</text>\n<polyline fill=\"none\" stroke=\"black\" points=\"1797.5,-81.5 1797.5,-117.5 \"/>\n<text text-anchor=\"middle\" x=\"1838.5\" y=\"-95.8\" font-family=\"Times,serif\" font-size=\"14.00\">grad 0.0429</text>\n</g>\n<!-- 140628120033168&#45;&gt;140628120969616+ -->\n<g id=\"edge21\" class=\"edge\">\n<title>140628120033168&#45;&gt;140628120969616+</title>\n<path fill=\"none\" stroke=\"black\" d=\"M1879.82,-115.28C1890.07,-117.08 1900.01,-118.81 1908.88,-120.36\"/>\n<polygon fill=\"black\" stroke=\"black\" points=\"1908.3,-123.81 1918.75,-122.09 1909.5,-116.92 1908.3,-123.81\"/>\n</g>\n<!-- 140628120033168&#45;&gt;140628120972624+ -->\n<g id=\"edge30\" class=\"edge\">\n<title>140628120033168&#45;&gt;140628120972624+</title>\n<path fill=\"none\" stroke=\"black\" d=\"M1879.82,-83.13C1890.07,-81.27 1900.01,-79.47 1908.88,-77.87\"/>\n<polygon fill=\"black\" stroke=\"black\" points=\"1909.54,-81.3 1918.75,-76.08 1908.29,-74.42 1909.54,-81.3\"/>\n</g>\n<!-- 140628120033168exp&#45;&gt;140628120033168 -->\n<g id=\"edge11\" class=\"edge\">\n<title>140628120033168exp&#45;&gt;140628120033168</title>\n<path fill=\"none\" stroke=\"black\" d=\"M1659.21,-99.5C1667.34,-99.5 1676.85,-99.5 1686.94,-99.5\"/>\n<polygon fill=\"black\" stroke=\"black\" points=\"1687.19,-103 1697.19,-99.5 1687.19,-96 1687.19,-103\"/>\n</g>\n</g>\n</svg>\n",
            "text/plain": [
              "<graphviz.graphs.Digraph at 0x7fe68923f850>"
            ]
          },
          "metadata": {},
          "execution_count": 213
        }
      ]
    },
    {
      "cell_type": "code",
      "source": [
        "import torch"
      ],
      "metadata": {
        "id": "mGePeiupSRB-"
      },
      "execution_count": null,
      "outputs": []
    },
    {
      "cell_type": "code",
      "source": [
        "x1 = torch.tensor([2.0]).double();                  x1.requires_grad=True\n",
        "x2 = torch.tensor([0.0]).double();                  x2.requires_grad=True\n",
        "w1 = torch.tensor([-3.0]).double();                 w1.requires_grad=True\n",
        "w2 = torch.tensor([1.0]).double();                  w2.requires_grad=True\n",
        "b = torch.tensor([6.8813735870195432]).double();    b.requires_grad=True\n",
        "\n",
        "n = w1*x1 + w2*x2 + b\n",
        "o = torch.tanh(n)\n",
        "o.backward()"
      ],
      "metadata": {
        "id": "vvhojELKqg6y"
      },
      "execution_count": null,
      "outputs": []
    },
    {
      "cell_type": "code",
      "source": [
        "import random"
      ],
      "metadata": {
        "id": "FIcCttsRFOsZ"
      },
      "execution_count": null,
      "outputs": []
    },
    {
      "cell_type": "code",
      "source": [
        "class Neuron:\n",
        "\n",
        "  def __init__(self, nin):\n",
        "    self.weight = [Value(random.uniform(-1,1)) for _ in range (nin)]\n",
        "    self.bais  = Value(random.uniform(-1,1))\n",
        "\n",
        "  def __call__(self, x):\n",
        "    act = sum((wi*xi for wi, xi in zip(self.weight, x)), self.bais)\n",
        "    out = act.tanh()\n",
        "    return out\n",
        "\n",
        "  def parameters(self):\n",
        "    return self.weight + [self.bais]\n",
        "\n",
        "\n",
        "class Layer:\n",
        "\n",
        "  def __init__(self, nin, nout):\n",
        "    self.neurons = [Neuron(nin) for _ in range(nout)]\n",
        "\n",
        "  def __call__(self, x):\n",
        "    outs = [n(x) for n in self.neurons]\n",
        "    return outs\n",
        "\n",
        "  def parameters(self):\n",
        "    params = []\n",
        "\n",
        "    for neuron in self.neurons:\n",
        "      ps = neuron.parameters()\n",
        "      params.extend(ps)\n",
        "    return params\n",
        "\n",
        "class MLP:\n",
        "\n",
        "  def __init__ (self, nin, nouts):\n",
        "    sz = [nin] + nouts\n",
        "    self.layers = [Layer(sz[i], sz[i+1]) for i in range (len(nouts))]\n",
        "\n",
        "  def __call__(self, x):\n",
        "    for layer in self.layers:\n",
        "      x = layer(x)\n",
        "    return x\n",
        "\n",
        "  def parameters(self):\n",
        "    params = []\n",
        "    for layer in self.layers:\n",
        "      ps = layer.parameters()\n",
        "      params.extend(ps)\n",
        "\n",
        "    return params"
      ],
      "metadata": {
        "id": "acEpteHmr5GH"
      },
      "execution_count": null,
      "outputs": []
    },
    {
      "cell_type": "code",
      "source": [
        "x = [2.0, 3.0, -1.0]\n",
        "n = MLP(3, [4, 4, 1])\n",
        "n(x)"
      ],
      "metadata": {
        "colab": {
          "base_uri": "https://localhost:8080/"
        },
        "id": "9d8As9CYFOys",
        "outputId": "f5ca6d71-8ed6-4c40-ac60-1adc19060e51"
      },
      "execution_count": null,
      "outputs": [
        {
          "output_type": "execute_result",
          "data": {
            "text/plain": [
              "[Value(data = -0.8905612230716842)]"
            ]
          },
          "metadata": {},
          "execution_count": 218
        }
      ]
    },
    {
      "cell_type": "code",
      "source": [
        "n.parameters()"
      ],
      "metadata": {
        "colab": {
          "base_uri": "https://localhost:8080/"
        },
        "id": "jS1BzZ7jGJH9",
        "outputId": "f2f494ac-3201-4548-9b02-0b4d61bdab8e"
      },
      "execution_count": null,
      "outputs": [
        {
          "output_type": "execute_result",
          "data": {
            "text/plain": [
              "[Value(data = 0.20937929268434474),\n",
              " Value(data = 0.23714933115947145),\n",
              " Value(data = 0.047585895456891514),\n",
              " Value(data = 0.9498294549741884),\n",
              " Value(data = 0.20973935010593903),\n",
              " Value(data = -0.6454253445603808),\n",
              " Value(data = 0.5764485422756633),\n",
              " Value(data = 0.5942414632388138),\n",
              " Value(data = -0.9598354065394059),\n",
              " Value(data = 0.11623888154560347),\n",
              " Value(data = 0.5556131623720932),\n",
              " Value(data = -0.7259496696841066),\n",
              " Value(data = 0.6235177625707364),\n",
              " Value(data = 0.7575693829749539),\n",
              " Value(data = -0.5039193951576111),\n",
              " Value(data = 0.4926461641335309),\n",
              " Value(data = -0.3903396169599411),\n",
              " Value(data = -0.28789109445268535),\n",
              " Value(data = 0.704791843623505),\n",
              " Value(data = 0.3473368557818979),\n",
              " Value(data = 0.11218483885013364),\n",
              " Value(data = -0.695410383189174),\n",
              " Value(data = 0.8551188476975295),\n",
              " Value(data = -0.12800371370491614),\n",
              " Value(data = 0.46033911007973183),\n",
              " Value(data = -0.16627328361559335),\n",
              " Value(data = 0.6886317235194206),\n",
              " Value(data = -0.991469704809095),\n",
              " Value(data = 0.020460998846020928),\n",
              " Value(data = 0.8523876143621159),\n",
              " Value(data = 0.5420523595802453),\n",
              " Value(data = -0.8203282305648747),\n",
              " Value(data = 0.21433710483333868),\n",
              " Value(data = 0.27364486087910156),\n",
              " Value(data = 0.3070363569568211),\n",
              " Value(data = -0.6906288451686451),\n",
              " Value(data = 0.7748098616926948),\n",
              " Value(data = 0.6105347147948628),\n",
              " Value(data = -0.9592790423681901),\n",
              " Value(data = -0.36321647764524667),\n",
              " Value(data = -0.07088835245870362)]"
            ]
          },
          "metadata": {},
          "execution_count": 219
        }
      ]
    },
    {
      "cell_type": "code",
      "source": [
        "xs = [\n",
        "    [2.0, 3.0, -1.0],\n",
        "    [3.0, -1.0, 0.5],\n",
        "    [0.5, 1.0, 1.0],\n",
        "    [1.0, 1.0, -1.0]\n",
        "]\n",
        "ys = [1.0, -1.0, -1.0, 1.0]\n",
        "ypred= [n(x) for x in xs]\n",
        "ypred"
      ],
      "metadata": {
        "id": "hfTHFNEmZ6xD",
        "colab": {
          "base_uri": "https://localhost:8080/"
        },
        "outputId": "9cf02667-6dbd-4446-d311-c7c970b34d50"
      },
      "execution_count": null,
      "outputs": [
        {
          "output_type": "execute_result",
          "data": {
            "text/plain": [
              "[[Value(data = -0.8905612230716842)],\n",
              " [Value(data = -0.6007021967035115)],\n",
              " [Value(data = -0.6852174374667024)],\n",
              " [Value(data = -0.8663475586875221)]]"
            ]
          },
          "metadata": {},
          "execution_count": 220
        }
      ]
    },
    {
      "cell_type": "code",
      "source": [
        "((y - ygt)**2 for y, ygt in zip(ys, ypred))"
      ],
      "metadata": {
        "colab": {
          "base_uri": "https://localhost:8080/"
        },
        "id": "UjTTDQRriZ30",
        "outputId": "0a9d7df4-c3d8-416c-a7af-c55a92783d69"
      },
      "execution_count": null,
      "outputs": [
        {
          "output_type": "execute_result",
          "data": {
            "text/plain": [
              "<generator object <genexpr> at 0x7fe689095460>"
            ]
          },
          "metadata": {},
          "execution_count": 221
        }
      ]
    },
    {
      "cell_type": "code",
      "source": [
        "for k in range(20):\n",
        "\n",
        "  # forward pass\n",
        "  ypred = [n(x) for x in xs]\n",
        "  # loss = sum([(yout[0] - Value(ygt))**2 for ygt, yout in zip(ys, ypred)]) # Original line causing the error\n",
        "\n",
        "  losses = [(yout[0] - Value(ygt))**2 for ygt, yout in zip(ys, ypred)]\n",
        "  loss = Value(0.0)  # Initialize loss as a Value object\n",
        "  for l in losses:\n",
        "      loss = loss + l # Explicitly use the overloaded + operator\n",
        "\n",
        "\n",
        "  # backward pass\n",
        "  for p in n.parameters():\n",
        "    p.grad = 0.0\n",
        "  loss.backward()\n",
        "\n",
        "  # update\n",
        "  for p in n.parameters():\n",
        "    p.data += -0.1 * p.grad\n",
        "\n",
        "  print(k, loss.data)"
      ],
      "metadata": {
        "colab": {
          "base_uri": "https://localhost:8080/"
        },
        "id": "RdtQ3CXOHiNO",
        "outputId": "7986ca95-8424-4398-f182-7fd797d10f8b"
      },
      "execution_count": null,
      "outputs": [
        {
          "output_type": "stream",
          "name": "stdout",
          "text": [
            "0 7.316001745393608\n",
            "1 5.784512128874079\n",
            "2 4.019479467317774\n",
            "3 5.455830976074195\n",
            "4 2.034342755152014\n",
            "5 1.971071967648053\n",
            "6 0.6521734284955151\n",
            "7 0.04994981198158039\n",
            "8 0.04504430912921815\n",
            "9 0.0410250510717276\n",
            "10 0.0376542790702237\n",
            "11 0.03477953331609861\n",
            "12 0.0322959379337186\n",
            "13 0.03012773996942746\n",
            "14 0.02821826493537892\n",
            "15 0.026523979956749627\n",
            "16 0.025010752246417686\n",
            "17 0.02365137113493088\n",
            "18 0.022423842168662705\n",
            "19 0.021310176160959954\n"
          ]
        }
      ]
    },
    {
      "cell_type": "code",
      "source": [],
      "metadata": {
        "id": "B3jBb-XIKsVP"
      },
      "execution_count": null,
      "outputs": []
    }
  ]
}